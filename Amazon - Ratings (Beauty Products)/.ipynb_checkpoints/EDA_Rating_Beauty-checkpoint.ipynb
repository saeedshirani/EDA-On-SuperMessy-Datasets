{
 "cells": [
  {
   "cell_type": "code",
   "execution_count": 2,
   "metadata": {},
   "outputs": [],
   "source": [
    "import pandas as pd \n",
    "import numpy as np \n",
    "import seaborn as sns\n",
    "import matplotlib.pyplot as plt\n",
    "%matplotlib inline"
   ]
  },
  {
   "cell_type": "code",
   "execution_count": 3,
   "metadata": {},
   "outputs": [
    {
     "data": {
      "text/html": [
       "<div>\n",
       "<style scoped>\n",
       "    .dataframe tbody tr th:only-of-type {\n",
       "        vertical-align: middle;\n",
       "    }\n",
       "\n",
       "    .dataframe tbody tr th {\n",
       "        vertical-align: top;\n",
       "    }\n",
       "\n",
       "    .dataframe thead th {\n",
       "        text-align: right;\n",
       "    }\n",
       "</style>\n",
       "<table border=\"1\" class=\"dataframe\">\n",
       "  <thead>\n",
       "    <tr style=\"text-align: right;\">\n",
       "      <th></th>\n",
       "      <th>UserId</th>\n",
       "      <th>ProductId</th>\n",
       "      <th>Rating</th>\n",
       "      <th>Timestamp</th>\n",
       "    </tr>\n",
       "  </thead>\n",
       "  <tbody>\n",
       "    <tr>\n",
       "      <th>0</th>\n",
       "      <td>A39HTATAQ9V7YF</td>\n",
       "      <td>0205616461</td>\n",
       "      <td>5.0</td>\n",
       "      <td>1369699200</td>\n",
       "    </tr>\n",
       "    <tr>\n",
       "      <th>1</th>\n",
       "      <td>A3JM6GV9MNOF9X</td>\n",
       "      <td>0558925278</td>\n",
       "      <td>3.0</td>\n",
       "      <td>1355443200</td>\n",
       "    </tr>\n",
       "    <tr>\n",
       "      <th>2</th>\n",
       "      <td>A1Z513UWSAAO0F</td>\n",
       "      <td>0558925278</td>\n",
       "      <td>5.0</td>\n",
       "      <td>1404691200</td>\n",
       "    </tr>\n",
       "    <tr>\n",
       "      <th>3</th>\n",
       "      <td>A1WMRR494NWEWV</td>\n",
       "      <td>0733001998</td>\n",
       "      <td>4.0</td>\n",
       "      <td>1382572800</td>\n",
       "    </tr>\n",
       "    <tr>\n",
       "      <th>4</th>\n",
       "      <td>A3IAAVS479H7M7</td>\n",
       "      <td>0737104473</td>\n",
       "      <td>1.0</td>\n",
       "      <td>1274227200</td>\n",
       "    </tr>\n",
       "  </tbody>\n",
       "</table>\n",
       "</div>"
      ],
      "text/plain": [
       "           UserId   ProductId  Rating   Timestamp\n",
       "0  A39HTATAQ9V7YF  0205616461     5.0  1369699200\n",
       "1  A3JM6GV9MNOF9X  0558925278     3.0  1355443200\n",
       "2  A1Z513UWSAAO0F  0558925278     5.0  1404691200\n",
       "3  A1WMRR494NWEWV  0733001998     4.0  1382572800\n",
       "4  A3IAAVS479H7M7  0737104473     1.0  1274227200"
      ]
     },
     "execution_count": 3,
     "metadata": {},
     "output_type": "execute_result"
    }
   ],
   "source": [
    "data = pd.read_csv(\"ratings_Beauty.csv\")\n",
    "df = pd.DataFrame(data)\n",
    "df.head()\n"
   ]
  },
  {
   "cell_type": "markdown",
   "metadata": {},
   "source": [
    "There is no duplication/NaN/Null Values in the dataset"
   ]
  },
  {
   "cell_type": "markdown",
   "metadata": {},
   "source": [
    "#### _________________________________________________________________"
   ]
  },
  {
   "cell_type": "code",
   "execution_count": 4,
   "metadata": {},
   "outputs": [
    {
     "data": {
      "text/plain": [
       "array([   1,    2,    3,    4,    5,    6,    7,    8,    9,   10,   11,\n",
       "         12,   13,   14,   15,   16,   17,   18,   19,   20,   21,   22,\n",
       "         23,   24,   25,   26,   27,   28,   29,   30,   31,   32,   33,\n",
       "         34,   35,   36,   37,   38,   39,   40,   41,   42,   43,   44,\n",
       "         45,   46,   47,   48,   49,   50,   51,   52,   53,   54,   55,\n",
       "         56,   57,   58,   59,   60,   61,   62,   63,   64,   65,   66,\n",
       "         67,   68,   69,   70,   71,   72,   73,   74,   75,   76,   77,\n",
       "         78,   79,   80,   81,   82,   83,   84,   85,   86,   87,   88,\n",
       "         89,   90,   91,   92,   93,   94,   95,   96,   97,   98,   99,\n",
       "        100,  101,  102,  103,  104,  105,  106,  107,  108,  109,  110,\n",
       "        111,  112,  113,  114,  115,  116,  117,  118,  119,  120,  121,\n",
       "        122,  123,  124,  125,  126,  127,  128,  129,  130,  131,  132,\n",
       "        133,  134,  135,  136,  137,  138,  139,  140,  141,  142,  143,\n",
       "        144,  145,  146,  147,  148,  149,  150,  151,  152,  153,  154,\n",
       "        155,  156,  157,  158,  159,  160,  161,  162,  163,  164,  165,\n",
       "        166,  167,  168,  169,  170,  171,  172,  173,  174,  175,  176,\n",
       "        177,  178,  179,  180,  181,  182,  183,  184,  185,  186,  187,\n",
       "        188,  189,  190,  191,  192,  193,  194,  195,  196,  197,  198,\n",
       "        199,  200,  201,  202,  203,  204,  205,  206,  207,  208,  209,\n",
       "        210,  211,  212,  213,  214,  215,  216,  217,  218,  219,  220,\n",
       "        221,  222,  223,  224,  225,  226,  227,  228,  229,  230,  231,\n",
       "        232,  233,  234,  235,  236,  237,  238,  239,  240,  241,  242,\n",
       "        243,  244,  245,  246,  247,  248,  249,  250,  251,  252,  253,\n",
       "        254,  255,  256,  257,  258,  259,  260,  261,  262,  263,  264,\n",
       "        265,  266,  267,  268,  269,  272,  273,  274,  275,  276,  277,\n",
       "        278,  279,  281,  282,  283,  284,  285,  286,  287,  288,  289,\n",
       "        290,  291,  292,  293,  294,  295,  296,  297,  298,  299,  300,\n",
       "        301,  302,  303,  305,  306,  307,  308,  309,  310,  311,  312,\n",
       "        313,  315,  316,  318,  319,  320,  321,  322,  324,  326,  327,\n",
       "        328,  329,  330,  331,  332,  333,  334,  335,  336,  337,  338,\n",
       "        339,  340,  341,  342,  345,  346,  347,  348,  349,  350,  351,\n",
       "        352,  353,  354,  355,  358,  359,  360,  362,  363,  364,  366,\n",
       "        368,  369,  370,  372,  375,  376,  377,  379,  380,  381,  383,\n",
       "        384,  386,  387,  388,  389,  391,  392,  394,  395,  396,  397,\n",
       "        398,  399,  400,  402,  404,  405,  406,  407,  409,  411,  412,\n",
       "        413,  414,  415,  416,  418,  419,  422,  423,  426,  427,  429,\n",
       "        430,  431,  432,  434,  435,  436,  438,  441,  442,  443,  446,\n",
       "        447,  452,  455,  456,  458,  459,  460,  461,  462,  463,  465,\n",
       "        466,  467,  468,  472,  473,  474,  478,  479,  480,  481,  483,\n",
       "        488,  489,  494,  495,  496,  497,  498,  499,  500,  501,  502,\n",
       "        503,  506,  507,  509,  510,  511,  512,  513,  514,  515,  519,\n",
       "        520,  523,  524,  534,  537,  539,  544,  545,  550,  551,  553,\n",
       "        554,  557,  558,  563,  565,  581,  584,  585,  587,  590,  591,\n",
       "        594,  595,  597,  598,  599,  600,  601,  605,  607,  609,  614,\n",
       "        616,  618,  619,  624,  639,  643,  644,  653,  656,  661,  662,\n",
       "        665,  666,  668,  671,  672,  678,  680,  682,  685,  686,  687,\n",
       "        689,  691,  698,  700,  704,  706,  707,  709,  713,  714,  720,\n",
       "        725,  729,  734,  735,  736,  738,  746,  755,  757,  758,  765,\n",
       "        766,  768,  773,  782,  784,  789,  795,  798,  810,  818,  828,\n",
       "        834,  845,  865,  880,  883,  885,  888,  896,  899,  925,  926,\n",
       "        943,  945,  946,  981,  992, 1046, 1051, 1061, 1074, 1079, 1105,\n",
       "       1108, 1135, 1136, 1153, 1159, 1163, 1323, 1330, 1333, 1341, 1347,\n",
       "       1349, 1379, 1430, 1468, 1475, 1558, 1589, 1838, 1885, 1918, 2041,\n",
       "       2088, 2143, 2477, 2869, 7533])"
      ]
     },
     "execution_count": 4,
     "metadata": {},
     "output_type": "execute_result"
    }
   ],
   "source": [
    "np.sort(df.groupby(by='ProductId', as_index=False).count()['Rating'].unique().tolist())"
   ]
  },
  {
   "cell_type": "code",
   "execution_count": 5,
   "metadata": {},
   "outputs": [
    {
     "data": {
      "text/plain": [
       "array([  1,   2,   3,   4,   5,   6,   7,   8,   9,  10,  11,  12,  13,\n",
       "        14,  15,  16,  17,  18,  19,  20,  21,  22,  23,  24,  25,  26,\n",
       "        27,  28,  29,  30,  31,  32,  33,  34,  35,  36,  37,  38,  39,\n",
       "        40,  41,  42,  43,  44,  45,  46,  47,  48,  49,  50,  51,  52,\n",
       "        53,  54,  55,  56,  57,  58,  59,  60,  61,  62,  63,  64,  65,\n",
       "        66,  67,  68,  69,  70,  71,  72,  73,  74,  75,  76,  77,  78,\n",
       "        79,  80,  81,  82,  83,  84,  85,  86,  87,  88,  89,  90,  91,\n",
       "        92,  93,  94,  95,  96,  97,  98,  99, 102, 103, 104, 105, 107,\n",
       "       108, 109, 110, 112, 113, 114, 115, 116, 117, 118, 120, 122, 125,\n",
       "       127, 129, 130, 131, 132, 134, 135, 137, 139, 141, 145, 150, 151,\n",
       "       152, 154, 155, 164, 168, 170, 172, 173, 182, 186, 205, 209, 211,\n",
       "       225, 249, 259, 269, 275, 276, 278, 326, 336, 389])"
      ]
     },
     "execution_count": 5,
     "metadata": {},
     "output_type": "execute_result"
    }
   ],
   "source": [
    "np.sort(df.groupby(by='UserId', as_index=False).count()['Rating'].unique().tolist())"
   ]
  },
  {
   "cell_type": "markdown",
   "metadata": {},
   "source": [
    "The dataset exhibits a high frequency of ratings per user and per product, making it well-suited for both time series analysis and Recency-Frequency-Monetary (RFM) analysis."
   ]
  },
  {
   "cell_type": "markdown",
   "metadata": {},
   "source": [
    "### --------------------------------------------------------------"
   ]
  },
  {
   "cell_type": "markdown",
   "metadata": {},
   "source": [
    "Lets look at relationship between product id and number of ratings:"
   ]
  },
  {
   "cell_type": "code",
   "execution_count": 8,
   "metadata": {},
   "outputs": [
    {
     "data": {
      "text/html": [
       "<div>\n",
       "<style scoped>\n",
       "    .dataframe tbody tr th:only-of-type {\n",
       "        vertical-align: middle;\n",
       "    }\n",
       "\n",
       "    .dataframe tbody tr th {\n",
       "        vertical-align: top;\n",
       "    }\n",
       "\n",
       "    .dataframe thead th {\n",
       "        text-align: right;\n",
       "    }\n",
       "</style>\n",
       "<table border=\"1\" class=\"dataframe\">\n",
       "  <thead>\n",
       "    <tr style=\"text-align: right;\">\n",
       "      <th></th>\n",
       "      <th>product_id</th>\n",
       "      <th>number_of_ratings</th>\n",
       "      <th>avg_ratings</th>\n",
       "      <th>weighted_rating</th>\n",
       "    </tr>\n",
       "  </thead>\n",
       "  <tbody>\n",
       "    <tr>\n",
       "      <th>0</th>\n",
       "      <td>0205616461</td>\n",
       "      <td>1</td>\n",
       "      <td>5.0</td>\n",
       "      <td>2.471491e-06</td>\n",
       "    </tr>\n",
       "    <tr>\n",
       "      <th>1</th>\n",
       "      <td>0558925278</td>\n",
       "      <td>2</td>\n",
       "      <td>4.0</td>\n",
       "      <td>3.954386e-06</td>\n",
       "    </tr>\n",
       "    <tr>\n",
       "      <th>2</th>\n",
       "      <td>0733001998</td>\n",
       "      <td>1</td>\n",
       "      <td>4.0</td>\n",
       "      <td>1.977193e-06</td>\n",
       "    </tr>\n",
       "    <tr>\n",
       "      <th>3</th>\n",
       "      <td>0737104473</td>\n",
       "      <td>1</td>\n",
       "      <td>1.0</td>\n",
       "      <td>4.942983e-07</td>\n",
       "    </tr>\n",
       "    <tr>\n",
       "      <th>4</th>\n",
       "      <td>0762451459</td>\n",
       "      <td>1</td>\n",
       "      <td>5.0</td>\n",
       "      <td>2.471491e-06</td>\n",
       "    </tr>\n",
       "  </tbody>\n",
       "</table>\n",
       "</div>"
      ],
      "text/plain": [
       "   product_id  number_of_ratings  avg_ratings  weighted_rating\n",
       "0  0205616461                  1          5.0     2.471491e-06\n",
       "1  0558925278                  2          4.0     3.954386e-06\n",
       "2  0733001998                  1          4.0     1.977193e-06\n",
       "3  0737104473                  1          1.0     4.942983e-07\n",
       "4  0762451459                  1          5.0     2.471491e-06"
      ]
     },
     "execution_count": 8,
     "metadata": {},
     "output_type": "execute_result"
    }
   ],
   "source": [
    "df.columns = [\"user_id\", \"product_id\", \"rating\", \"timestamp\"]\n",
    "\n",
    "product_performance = df.groupby(by=\"product_id\", as_index=False).agg({\"user_id\": \"count\", \"rating\": \"mean\"})\n",
    "product_performance.rename(columns={'user_id': 'number_of_ratings', \"rating\": \"avg_ratings\"}, inplace=True)\n",
    "product_performance['weighted_rating'] = (product_performance['avg_ratings'] * product_performance['number_of_ratings']) / product_performance['number_of_ratings'].sum()\n",
    "\n",
    "product_performance.head()\n"
   ]
  },
  {
   "cell_type": "code",
   "execution_count": 9,
   "metadata": {},
   "outputs": [
    {
     "data": {
      "text/html": [
       "<div>\n",
       "<style scoped>\n",
       "    .dataframe tbody tr th:only-of-type {\n",
       "        vertical-align: middle;\n",
       "    }\n",
       "\n",
       "    .dataframe tbody tr th {\n",
       "        vertical-align: top;\n",
       "    }\n",
       "\n",
       "    .dataframe thead th {\n",
       "        text-align: right;\n",
       "    }\n",
       "</style>\n",
       "<table border=\"1\" class=\"dataframe\">\n",
       "  <thead>\n",
       "    <tr style=\"text-align: right;\">\n",
       "      <th></th>\n",
       "      <th>number_of_ratings</th>\n",
       "      <th>avg_ratings</th>\n",
       "      <th>weighted_rating</th>\n",
       "    </tr>\n",
       "  </thead>\n",
       "  <tbody>\n",
       "    <tr>\n",
       "      <th>count</th>\n",
       "      <td>249274.000000</td>\n",
       "      <td>249274.000000</td>\n",
       "      <td>2.492740e+05</td>\n",
       "    </tr>\n",
       "    <tr>\n",
       "      <th>mean</th>\n",
       "      <td>8.115848</td>\n",
       "      <td>4.149251</td>\n",
       "      <td>1.664448e-05</td>\n",
       "    </tr>\n",
       "    <tr>\n",
       "      <th>std</th>\n",
       "      <td>36.064113</td>\n",
       "      <td>1.047265</td>\n",
       "      <td>7.485112e-05</td>\n",
       "    </tr>\n",
       "    <tr>\n",
       "      <th>min</th>\n",
       "      <td>1.000000</td>\n",
       "      <td>1.000000</td>\n",
       "      <td>4.942983e-07</td>\n",
       "    </tr>\n",
       "    <tr>\n",
       "      <th>25%</th>\n",
       "      <td>1.000000</td>\n",
       "      <td>3.750000</td>\n",
       "      <td>2.471491e-06</td>\n",
       "    </tr>\n",
       "    <tr>\n",
       "      <th>50%</th>\n",
       "      <td>2.000000</td>\n",
       "      <td>4.500000</td>\n",
       "      <td>4.448684e-06</td>\n",
       "    </tr>\n",
       "    <tr>\n",
       "      <th>75%</th>\n",
       "      <td>5.000000</td>\n",
       "      <td>5.000000</td>\n",
       "      <td>9.885965e-06</td>\n",
       "    </tr>\n",
       "    <tr>\n",
       "      <th>max</th>\n",
       "      <td>7533.000000</td>\n",
       "      <td>5.000000</td>\n",
       "      <td>1.609089e-02</td>\n",
       "    </tr>\n",
       "  </tbody>\n",
       "</table>\n",
       "</div>"
      ],
      "text/plain": [
       "       number_of_ratings    avg_ratings  weighted_rating\n",
       "count      249274.000000  249274.000000     2.492740e+05\n",
       "mean            8.115848       4.149251     1.664448e-05\n",
       "std            36.064113       1.047265     7.485112e-05\n",
       "min             1.000000       1.000000     4.942983e-07\n",
       "25%             1.000000       3.750000     2.471491e-06\n",
       "50%             2.000000       4.500000     4.448684e-06\n",
       "75%             5.000000       5.000000     9.885965e-06\n",
       "max          7533.000000       5.000000     1.609089e-02"
      ]
     },
     "execution_count": 9,
     "metadata": {},
     "output_type": "execute_result"
    }
   ],
   "source": [
    "product_performance.describe()"
   ]
  },
  {
   "cell_type": "markdown",
   "metadata": {},
   "source": [
    "# ------------------------------------------------"
   ]
  },
  {
   "cell_type": "markdown",
   "metadata": {},
   "source": [
    "Lets find products with high rating "
   ]
  },
  {
   "cell_type": "code",
   "execution_count": 11,
   "metadata": {},
   "outputs": [
    {
     "data": {
      "text/html": [
       "<div>\n",
       "<style scoped>\n",
       "    .dataframe tbody tr th:only-of-type {\n",
       "        vertical-align: middle;\n",
       "    }\n",
       "\n",
       "    .dataframe tbody tr th {\n",
       "        vertical-align: top;\n",
       "    }\n",
       "\n",
       "    .dataframe thead th {\n",
       "        text-align: right;\n",
       "    }\n",
       "</style>\n",
       "<table border=\"1\" class=\"dataframe\">\n",
       "  <thead>\n",
       "    <tr style=\"text-align: right;\">\n",
       "      <th></th>\n",
       "      <th>product_id</th>\n",
       "      <th>number_of_ratings</th>\n",
       "      <th>avg_ratings</th>\n",
       "      <th>weighted_rating</th>\n",
       "    </tr>\n",
       "  </thead>\n",
       "  <tbody>\n",
       "    <tr>\n",
       "      <th>65766</th>\n",
       "      <td>B001MA0QY2</td>\n",
       "      <td>7533</td>\n",
       "      <td>4.321386</td>\n",
       "      <td>0.016091</td>\n",
       "    </tr>\n",
       "    <tr>\n",
       "      <th>10516</th>\n",
       "      <td>B0009V1YR8</td>\n",
       "      <td>2869</td>\n",
       "      <td>3.568839</td>\n",
       "      <td>0.005061</td>\n",
       "    </tr>\n",
       "    <tr>\n",
       "      <th>110873</th>\n",
       "      <td>B0043OYFKU</td>\n",
       "      <td>2477</td>\n",
       "      <td>4.310456</td>\n",
       "      <td>0.005278</td>\n",
       "    </tr>\n",
       "    <tr>\n",
       "      <th>2365</th>\n",
       "      <td>B0000YUXI0</td>\n",
       "      <td>2143</td>\n",
       "      <td>4.405040</td>\n",
       "      <td>0.004666</td>\n",
       "    </tr>\n",
       "    <tr>\n",
       "      <th>105018</th>\n",
       "      <td>B003V265QW</td>\n",
       "      <td>2088</td>\n",
       "      <td>4.365421</td>\n",
       "      <td>0.004506</td>\n",
       "    </tr>\n",
       "    <tr>\n",
       "      <th>41474</th>\n",
       "      <td>B000ZMBSPE</td>\n",
       "      <td>2041</td>\n",
       "      <td>4.422342</td>\n",
       "      <td>0.004462</td>\n",
       "    </tr>\n",
       "    <tr>\n",
       "      <th>94769</th>\n",
       "      <td>B003BQ6QXK</td>\n",
       "      <td>1918</td>\n",
       "      <td>4.625652</td>\n",
       "      <td>0.004385</td>\n",
       "    </tr>\n",
       "    <tr>\n",
       "      <th>124659</th>\n",
       "      <td>B004OHQR1Q</td>\n",
       "      <td>1885</td>\n",
       "      <td>4.465782</td>\n",
       "      <td>0.004161</td>\n",
       "    </tr>\n",
       "    <tr>\n",
       "      <th>43368</th>\n",
       "      <td>B00121UVU0</td>\n",
       "      <td>1838</td>\n",
       "      <td>4.538085</td>\n",
       "      <td>0.004123</td>\n",
       "    </tr>\n",
       "    <tr>\n",
       "      <th>17629</th>\n",
       "      <td>B000FS05VG</td>\n",
       "      <td>1589</td>\n",
       "      <td>4.159849</td>\n",
       "      <td>0.003267</td>\n",
       "    </tr>\n",
       "  </tbody>\n",
       "</table>\n",
       "</div>"
      ],
      "text/plain": [
       "        product_id  number_of_ratings  avg_ratings  weighted_rating\n",
       "65766   B001MA0QY2               7533     4.321386         0.016091\n",
       "10516   B0009V1YR8               2869     3.568839         0.005061\n",
       "110873  B0043OYFKU               2477     4.310456         0.005278\n",
       "2365    B0000YUXI0               2143     4.405040         0.004666\n",
       "105018  B003V265QW               2088     4.365421         0.004506\n",
       "41474   B000ZMBSPE               2041     4.422342         0.004462\n",
       "94769   B003BQ6QXK               1918     4.625652         0.004385\n",
       "124659  B004OHQR1Q               1885     4.465782         0.004161\n",
       "43368   B00121UVU0               1838     4.538085         0.004123\n",
       "17629   B000FS05VG               1589     4.159849         0.003267"
      ]
     },
     "execution_count": 11,
     "metadata": {},
     "output_type": "execute_result"
    }
   ],
   "source": [
    "top10_hit_ratings = product_performance.sort_values(by=\"number_of_ratings\", ascending=False).head(10)\n",
    "top10_hit_ratings.head(10)"
   ]
  },
  {
   "cell_type": "markdown",
   "metadata": {},
   "source": [
    "We aim to identify products with substantial ratings, specifically those with a minimum of 30 ratings. This threshold is chosen to ensure a sufficiently robust dataset for statistical analysis, enabling the exploration of patterns and the potential creation of a normal distribution with at least 30 data points."
   ]
  },
  {
   "cell_type": "code",
   "execution_count": 12,
   "metadata": {},
   "outputs": [
    {
     "data": {
      "text/html": [
       "<div>\n",
       "<style scoped>\n",
       "    .dataframe tbody tr th:only-of-type {\n",
       "        vertical-align: middle;\n",
       "    }\n",
       "\n",
       "    .dataframe tbody tr th {\n",
       "        vertical-align: top;\n",
       "    }\n",
       "\n",
       "    .dataframe thead th {\n",
       "        text-align: right;\n",
       "    }\n",
       "</style>\n",
       "<table border=\"1\" class=\"dataframe\">\n",
       "  <thead>\n",
       "    <tr style=\"text-align: right;\">\n",
       "      <th></th>\n",
       "      <th>product_id</th>\n",
       "      <th>number_of_ratings</th>\n",
       "      <th>avg_ratings</th>\n",
       "      <th>weighted_rating</th>\n",
       "    </tr>\n",
       "  </thead>\n",
       "  <tbody>\n",
       "    <tr>\n",
       "      <th>207089</th>\n",
       "      <td>B00BFWD6GC</td>\n",
       "      <td>30</td>\n",
       "      <td>5.000000</td>\n",
       "      <td>0.000074</td>\n",
       "    </tr>\n",
       "    <tr>\n",
       "      <th>148420</th>\n",
       "      <td>B005V247N8</td>\n",
       "      <td>37</td>\n",
       "      <td>5.000000</td>\n",
       "      <td>0.000091</td>\n",
       "    </tr>\n",
       "    <tr>\n",
       "      <th>59664</th>\n",
       "      <td>B001F0RBRE</td>\n",
       "      <td>41</td>\n",
       "      <td>5.000000</td>\n",
       "      <td>0.000101</td>\n",
       "    </tr>\n",
       "    <tr>\n",
       "      <th>76912</th>\n",
       "      <td>B002DMJM52</td>\n",
       "      <td>30</td>\n",
       "      <td>5.000000</td>\n",
       "      <td>0.000074</td>\n",
       "    </tr>\n",
       "    <tr>\n",
       "      <th>114623</th>\n",
       "      <td>B004AI5756</td>\n",
       "      <td>38</td>\n",
       "      <td>5.000000</td>\n",
       "      <td>0.000094</td>\n",
       "    </tr>\n",
       "    <tr>\n",
       "      <th>116169</th>\n",
       "      <td>B004CNRDBU</td>\n",
       "      <td>58</td>\n",
       "      <td>5.000000</td>\n",
       "      <td>0.000143</td>\n",
       "    </tr>\n",
       "    <tr>\n",
       "      <th>112339</th>\n",
       "      <td>B00466VJ04</td>\n",
       "      <td>38</td>\n",
       "      <td>5.000000</td>\n",
       "      <td>0.000094</td>\n",
       "    </tr>\n",
       "    <tr>\n",
       "      <th>7220</th>\n",
       "      <td>B0006B65PC</td>\n",
       "      <td>31</td>\n",
       "      <td>5.000000</td>\n",
       "      <td>0.000077</td>\n",
       "    </tr>\n",
       "    <tr>\n",
       "      <th>247748</th>\n",
       "      <td>B00JNI1DZQ</td>\n",
       "      <td>44</td>\n",
       "      <td>4.977273</td>\n",
       "      <td>0.000108</td>\n",
       "    </tr>\n",
       "    <tr>\n",
       "      <th>248573</th>\n",
       "      <td>B00K7ER6LU</td>\n",
       "      <td>85</td>\n",
       "      <td>4.976471</td>\n",
       "      <td>0.000209</td>\n",
       "    </tr>\n",
       "  </tbody>\n",
       "</table>\n",
       "</div>"
      ],
      "text/plain": [
       "        product_id  number_of_ratings  avg_ratings  weighted_rating\n",
       "207089  B00BFWD6GC                 30     5.000000         0.000074\n",
       "148420  B005V247N8                 37     5.000000         0.000091\n",
       "59664   B001F0RBRE                 41     5.000000         0.000101\n",
       "76912   B002DMJM52                 30     5.000000         0.000074\n",
       "114623  B004AI5756                 38     5.000000         0.000094\n",
       "116169  B004CNRDBU                 58     5.000000         0.000143\n",
       "112339  B00466VJ04                 38     5.000000         0.000094\n",
       "7220    B0006B65PC                 31     5.000000         0.000077\n",
       "247748  B00JNI1DZQ                 44     4.977273         0.000108\n",
       "248573  B00K7ER6LU                 85     4.976471         0.000209"
      ]
     },
     "execution_count": 12,
     "metadata": {},
     "output_type": "execute_result"
    }
   ],
   "source": [
    "atleast_30ratings = product_performance.loc[product_performance[\"number_of_ratings\"] >= 30]\n",
    "atleast_30ratings.sort_values(by=\"avg_ratings\", ascending=False).head(10)\n"
   ]
  },
  {
   "cell_type": "markdown",
   "metadata": {},
   "source": [
    "# finding Trends"
   ]
  },
  {
   "cell_type": "markdown",
   "metadata": {},
   "source": [
    "we use product_id column in atleast_30ratings dataframe to select high rated products from df dataframe:"
   ]
  },
  {
   "cell_type": "code",
   "execution_count": 13,
   "metadata": {},
   "outputs": [
    {
     "data": {
      "text/html": [
       "<div>\n",
       "<style scoped>\n",
       "    .dataframe tbody tr th:only-of-type {\n",
       "        vertical-align: middle;\n",
       "    }\n",
       "\n",
       "    .dataframe tbody tr th {\n",
       "        vertical-align: top;\n",
       "    }\n",
       "\n",
       "    .dataframe thead th {\n",
       "        text-align: right;\n",
       "    }\n",
       "</style>\n",
       "<table border=\"1\" class=\"dataframe\">\n",
       "  <thead>\n",
       "    <tr style=\"text-align: right;\">\n",
       "      <th></th>\n",
       "      <th>user_id</th>\n",
       "      <th>product_id</th>\n",
       "      <th>rating</th>\n",
       "      <th>timestamp</th>\n",
       "    </tr>\n",
       "  </thead>\n",
       "  <tbody>\n",
       "    <tr>\n",
       "      <th>338</th>\n",
       "      <td>A2LRQ8GV6PZMHX</td>\n",
       "      <td>7806397051</td>\n",
       "      <td>4.0</td>\n",
       "      <td>1405987200</td>\n",
       "    </tr>\n",
       "    <tr>\n",
       "      <th>339</th>\n",
       "      <td>A2B3FQVNDDT4PF</td>\n",
       "      <td>7806397051</td>\n",
       "      <td>3.0</td>\n",
       "      <td>1401062400</td>\n",
       "    </tr>\n",
       "    <tr>\n",
       "      <th>340</th>\n",
       "      <td>A1YJEY40YUW4SE</td>\n",
       "      <td>7806397051</td>\n",
       "      <td>1.0</td>\n",
       "      <td>1391040000</td>\n",
       "    </tr>\n",
       "    <tr>\n",
       "      <th>341</th>\n",
       "      <td>AS5RB0XRDQZCS</td>\n",
       "      <td>7806397051</td>\n",
       "      <td>5.0</td>\n",
       "      <td>1346544000</td>\n",
       "    </tr>\n",
       "    <tr>\n",
       "      <th>342</th>\n",
       "      <td>A6SS3B6BFQ5KX</td>\n",
       "      <td>7806397051</td>\n",
       "      <td>3.0</td>\n",
       "      <td>1404950400</td>\n",
       "    </tr>\n",
       "    <tr>\n",
       "      <th>343</th>\n",
       "      <td>A293VWKAL1RWBG</td>\n",
       "      <td>7806397051</td>\n",
       "      <td>5.0</td>\n",
       "      <td>1403395200</td>\n",
       "    </tr>\n",
       "    <tr>\n",
       "      <th>344</th>\n",
       "      <td>ABPIQZ23IBOJ</td>\n",
       "      <td>7806397051</td>\n",
       "      <td>4.0</td>\n",
       "      <td>1376697600</td>\n",
       "    </tr>\n",
       "    <tr>\n",
       "      <th>345</th>\n",
       "      <td>A2DQ8W8ON2QZD3</td>\n",
       "      <td>7806397051</td>\n",
       "      <td>5.0</td>\n",
       "      <td>1395446400</td>\n",
       "    </tr>\n",
       "    <tr>\n",
       "      <th>346</th>\n",
       "      <td>A18S7SDS6HJ4LA</td>\n",
       "      <td>7806397051</td>\n",
       "      <td>2.0</td>\n",
       "      <td>1400544000</td>\n",
       "    </tr>\n",
       "    <tr>\n",
       "      <th>347</th>\n",
       "      <td>A60XNB876KYML</td>\n",
       "      <td>7806397051</td>\n",
       "      <td>3.0</td>\n",
       "      <td>1397779200</td>\n",
       "    </tr>\n",
       "  </tbody>\n",
       "</table>\n",
       "</div>"
      ],
      "text/plain": [
       "            user_id  product_id  rating   timestamp\n",
       "338  A2LRQ8GV6PZMHX  7806397051     4.0  1405987200\n",
       "339  A2B3FQVNDDT4PF  7806397051     3.0  1401062400\n",
       "340  A1YJEY40YUW4SE  7806397051     1.0  1391040000\n",
       "341   AS5RB0XRDQZCS  7806397051     5.0  1346544000\n",
       "342   A6SS3B6BFQ5KX  7806397051     3.0  1404950400\n",
       "343  A293VWKAL1RWBG  7806397051     5.0  1403395200\n",
       "344    ABPIQZ23IBOJ  7806397051     4.0  1376697600\n",
       "345  A2DQ8W8ON2QZD3  7806397051     5.0  1395446400\n",
       "346  A18S7SDS6HJ4LA  7806397051     2.0  1400544000\n",
       "347   A60XNB876KYML  7806397051     3.0  1397779200"
      ]
     },
     "execution_count": 13,
     "metadata": {},
     "output_type": "execute_result"
    }
   ],
   "source": [
    "selected_product_id = atleast_30ratings[\"product_id\"]\n",
    "top_reviewed_df = df[df[\"product_id\"].isin(selected_product_id)]\n",
    "top_reviewed_df.head(10)"
   ]
  },
  {
   "cell_type": "markdown",
   "metadata": {},
   "source": [
    "Our dataset is including timestamp \"Unix timestamp\" or \"Epoch time.\"\n",
    "\n",
    "it is include data from 2000-11-21 up to 2014-07-23\n",
    "\n",
    "we can create a program that provides information on the most frequently rated products within various specified time intervals."
   ]
  },
  {
   "cell_type": "markdown",
   "metadata": {},
   "source": [
    "## example\n",
    "**Consider an example where we aim to analyze the trend line and time series of a product that has been rated at least 100 times and possesses a high rating score. The objective is to delve into the product's performance over time, focusing on its ratings and identifying patterns in its user feedback. This analysis aims to provide insights into the sustained popularity and satisfaction level associated with the product over the course of time.**"
   ]
  },
  {
   "cell_type": "code",
   "execution_count": 15,
   "metadata": {},
   "outputs": [
    {
     "data": {
      "text/html": [
       "<div>\n",
       "<style scoped>\n",
       "    .dataframe tbody tr th:only-of-type {\n",
       "        vertical-align: middle;\n",
       "    }\n",
       "\n",
       "    .dataframe tbody tr th {\n",
       "        vertical-align: top;\n",
       "    }\n",
       "\n",
       "    .dataframe thead th {\n",
       "        text-align: right;\n",
       "    }\n",
       "</style>\n",
       "<table border=\"1\" class=\"dataframe\">\n",
       "  <thead>\n",
       "    <tr style=\"text-align: right;\">\n",
       "      <th></th>\n",
       "      <th>product_id</th>\n",
       "      <th>number_of_ratings</th>\n",
       "      <th>avg_ratings</th>\n",
       "      <th>weighted_rating</th>\n",
       "    </tr>\n",
       "  </thead>\n",
       "  <tbody>\n",
       "    <tr>\n",
       "      <th>32284</th>\n",
       "      <td>B000RRKCVS</td>\n",
       "      <td>500</td>\n",
       "      <td>4.256</td>\n",
       "      <td>0.001052</td>\n",
       "    </tr>\n",
       "    <tr>\n",
       "      <th>156593</th>\n",
       "      <td>B006QO4BRM</td>\n",
       "      <td>500</td>\n",
       "      <td>4.014</td>\n",
       "      <td>0.000992</td>\n",
       "    </tr>\n",
       "  </tbody>\n",
       "</table>\n",
       "</div>"
      ],
      "text/plain": [
       "        product_id  number_of_ratings  avg_ratings  weighted_rating\n",
       "32284   B000RRKCVS                500        4.256         0.001052\n",
       "156593  B006QO4BRM                500        4.014         0.000992"
      ]
     },
     "execution_count": 15,
     "metadata": {},
     "output_type": "execute_result"
    }
   ],
   "source": [
    "rated_onehundred = atleast_30ratings.loc[atleast_30ratings[\"number_of_ratings\"] == 500 ]\n",
    "rated_onehundred.sort_values(by=\"avg_ratings\", ascending=False).head()"
   ]
  },
  {
   "cell_type": "markdown",
   "metadata": {},
   "source": [
    "look at first product at index 32284 ,with product_id B000RRKCVS.\n",
    "\n",
    "let's draw time series of rating for this product over time."
   ]
  },
  {
   "cell_type": "code",
   "execution_count": 16,
   "metadata": {},
   "outputs": [
    {
     "data": {
      "text/html": [
       "<div>\n",
       "<style scoped>\n",
       "    .dataframe tbody tr th:only-of-type {\n",
       "        vertical-align: middle;\n",
       "    }\n",
       "\n",
       "    .dataframe tbody tr th {\n",
       "        vertical-align: top;\n",
       "    }\n",
       "\n",
       "    .dataframe thead th {\n",
       "        text-align: right;\n",
       "    }\n",
       "</style>\n",
       "<table border=\"1\" class=\"dataframe\">\n",
       "  <thead>\n",
       "    <tr style=\"text-align: right;\">\n",
       "      <th></th>\n",
       "      <th>user_id</th>\n",
       "      <th>product_id</th>\n",
       "      <th>rating</th>\n",
       "      <th>timestamp</th>\n",
       "    </tr>\n",
       "  </thead>\n",
       "  <tbody>\n",
       "    <tr>\n",
       "      <th>402000</th>\n",
       "      <td>A19VIHC5DHRJZV</td>\n",
       "      <td>B000RRKCVS</td>\n",
       "      <td>1.0</td>\n",
       "      <td>1328659200</td>\n",
       "    </tr>\n",
       "    <tr>\n",
       "      <th>402001</th>\n",
       "      <td>A2SU3QJX4QBH08</td>\n",
       "      <td>B000RRKCVS</td>\n",
       "      <td>4.0</td>\n",
       "      <td>1362528000</td>\n",
       "    </tr>\n",
       "    <tr>\n",
       "      <th>402002</th>\n",
       "      <td>A26Z72Z9B5AB5Y</td>\n",
       "      <td>B000RRKCVS</td>\n",
       "      <td>1.0</td>\n",
       "      <td>1295913600</td>\n",
       "    </tr>\n",
       "    <tr>\n",
       "      <th>402003</th>\n",
       "      <td>A1UNHTGX6XABU7</td>\n",
       "      <td>B000RRKCVS</td>\n",
       "      <td>3.0</td>\n",
       "      <td>1362614400</td>\n",
       "    </tr>\n",
       "    <tr>\n",
       "      <th>402004</th>\n",
       "      <td>A3MQ38R9UZC0FY</td>\n",
       "      <td>B000RRKCVS</td>\n",
       "      <td>5.0</td>\n",
       "      <td>1390435200</td>\n",
       "    </tr>\n",
       "  </tbody>\n",
       "</table>\n",
       "</div>"
      ],
      "text/plain": [
       "               user_id  product_id  rating   timestamp\n",
       "402000  A19VIHC5DHRJZV  B000RRKCVS     1.0  1328659200\n",
       "402001  A2SU3QJX4QBH08  B000RRKCVS     4.0  1362528000\n",
       "402002  A26Z72Z9B5AB5Y  B000RRKCVS     1.0  1295913600\n",
       "402003  A1UNHTGX6XABU7  B000RRKCVS     3.0  1362614400\n",
       "402004  A3MQ38R9UZC0FY  B000RRKCVS     5.0  1390435200"
      ]
     },
     "execution_count": 16,
     "metadata": {},
     "output_type": "execute_result"
    }
   ],
   "source": [
    "product_B000RRKCVS = top_reviewed_df.loc[top_reviewed_df[\"product_id\"] == \"B000RRKCVS\"]\n",
    "product_B000RRKCVS.head(5)"
   ]
  },
  {
   "cell_type": "markdown",
   "metadata": {},
   "source": [
    "Let's determine the count of ratings of product B000RRKCVS for each date."
   ]
  },
  {
   "cell_type": "code",
   "execution_count": 17,
   "metadata": {},
   "outputs": [
    {
     "data": {
      "text/html": [
       "<div>\n",
       "<style scoped>\n",
       "    .dataframe tbody tr th:only-of-type {\n",
       "        vertical-align: middle;\n",
       "    }\n",
       "\n",
       "    .dataframe tbody tr th {\n",
       "        vertical-align: top;\n",
       "    }\n",
       "\n",
       "    .dataframe thead th {\n",
       "        text-align: right;\n",
       "    }\n",
       "</style>\n",
       "<table border=\"1\" class=\"dataframe\">\n",
       "  <thead>\n",
       "    <tr style=\"text-align: right;\">\n",
       "      <th></th>\n",
       "      <th>user_id</th>\n",
       "      <th>product_id</th>\n",
       "      <th>rating</th>\n",
       "    </tr>\n",
       "    <tr>\n",
       "      <th>timestamp</th>\n",
       "      <th></th>\n",
       "      <th></th>\n",
       "      <th></th>\n",
       "    </tr>\n",
       "  </thead>\n",
       "  <tbody>\n",
       "    <tr>\n",
       "      <th>1113782400</th>\n",
       "      <td>1</td>\n",
       "      <td>1</td>\n",
       "      <td>1</td>\n",
       "    </tr>\n",
       "    <tr>\n",
       "      <th>1184630400</th>\n",
       "      <td>1</td>\n",
       "      <td>1</td>\n",
       "      <td>1</td>\n",
       "    </tr>\n",
       "    <tr>\n",
       "      <th>1195430400</th>\n",
       "      <td>1</td>\n",
       "      <td>1</td>\n",
       "      <td>1</td>\n",
       "    </tr>\n",
       "    <tr>\n",
       "      <th>1196380800</th>\n",
       "      <td>1</td>\n",
       "      <td>1</td>\n",
       "      <td>1</td>\n",
       "    </tr>\n",
       "    <tr>\n",
       "      <th>1200700800</th>\n",
       "      <td>1</td>\n",
       "      <td>1</td>\n",
       "      <td>1</td>\n",
       "    </tr>\n",
       "  </tbody>\n",
       "</table>\n",
       "</div>"
      ],
      "text/plain": [
       "            user_id  product_id  rating\n",
       "timestamp                              \n",
       "1113782400        1           1       1\n",
       "1184630400        1           1       1\n",
       "1195430400        1           1       1\n",
       "1196380800        1           1       1\n",
       "1200700800        1           1       1"
      ]
     },
     "execution_count": 17,
     "metadata": {},
     "output_type": "execute_result"
    }
   ],
   "source": [
    "product_B000RRKCVS_counted = product_B000RRKCVS.groupby(by=\"timestamp\").count()\n",
    "product_B000RRKCVS_counted.head(5)\n"
   ]
  },
  {
   "cell_type": "markdown",
   "metadata": {},
   "source": []
  },
  {
   "cell_type": "code",
   "execution_count": 24,
   "metadata": {},
   "outputs": [
    {
     "data": {
      "text/plain": [
       "<seaborn.axisgrid.FacetGrid at 0x2a4010a0550>"
      ]
     },
     "execution_count": 24,
     "metadata": {},
     "output_type": "execute_result"
    },
    {
     "data": {
      "image/png": "[encoded data removed]",
      "text/plain": [
       "<Figure size 1000x500 with 1 Axes>"
      ]
     },
     "metadata": {},
     "output_type": "display_data"
    }
   ],
   "source": [
    "\n",
    "g = sns.relplot(data=product_B000RRKCVS_counted, x=\"timestamp\", y=\"rating\",\n",
    "            kind=\"line\", height=5, aspect=2)\n",
    "\n",
    "g.fig.suptitle(\"Number of ratings per time for product B000RRKCVS\", y=1.02)\n",
    "\n",
    "g.set_ylabels(\"Number of Ratings\", clear_inner=False)\n",
    "g.set_xlabels(\"Date\", clear_inner=False)"
   ]
  },
  {
   "cell_type": "markdown",
   "metadata": {},
   "source": [
    "Depending on your time frame this chart will be diffract for same product"
   ]
  },
  {
   "cell_type": "markdown",
   "metadata": {},
   "source": [
    "at the end we can look at this data from several sides:\n",
    "1. looking at one product time series as we did \n",
    "2. looking at all products of a single time period "
   ]
  },
  {
   "cell_type": "markdown",
   "metadata": {},
   "source": [
    "Lets look at seconde option:\n",
    "\n",
    "\n",
    "**looking at all products of a single time period**"
   ]
  },
  {
   "cell_type": "markdown",
   "metadata": {},
   "source": [
    "lets select data of 2012"
   ]
  },
  {
   "cell_type": "code",
   "execution_count": 25,
   "metadata": {},
   "outputs": [
    {
     "data": {
      "text/html": [
       "<div>\n",
       "<style scoped>\n",
       "    .dataframe tbody tr th:only-of-type {\n",
       "        vertical-align: middle;\n",
       "    }\n",
       "\n",
       "    .dataframe tbody tr th {\n",
       "        vertical-align: top;\n",
       "    }\n",
       "\n",
       "    .dataframe thead th {\n",
       "        text-align: right;\n",
       "    }\n",
       "</style>\n",
       "<table border=\"1\" class=\"dataframe\">\n",
       "  <thead>\n",
       "    <tr style=\"text-align: right;\">\n",
       "      <th></th>\n",
       "      <th>user_id</th>\n",
       "      <th>product_id</th>\n",
       "      <th>rating</th>\n",
       "      <th>timestamp</th>\n",
       "    </tr>\n",
       "  </thead>\n",
       "  <tbody>\n",
       "    <tr>\n",
       "      <th>341</th>\n",
       "      <td>AS5RB0XRDQZCS</td>\n",
       "      <td>7806397051</td>\n",
       "      <td>5.0</td>\n",
       "      <td>1346544000</td>\n",
       "    </tr>\n",
       "    <tr>\n",
       "      <th>494</th>\n",
       "      <td>AVIFRWR2YKO73</td>\n",
       "      <td>9746427962</td>\n",
       "      <td>2.0</td>\n",
       "      <td>1348617600</td>\n",
       "    </tr>\n",
       "    <tr>\n",
       "      <th>496</th>\n",
       "      <td>A14IT4G4FZFEP6</td>\n",
       "      <td>9746427962</td>\n",
       "      <td>5.0</td>\n",
       "      <td>1348012800</td>\n",
       "    </tr>\n",
       "    <tr>\n",
       "      <th>498</th>\n",
       "      <td>A2WTWKGP9WES1Q</td>\n",
       "      <td>9746427962</td>\n",
       "      <td>1.0</td>\n",
       "      <td>1349654400</td>\n",
       "    </tr>\n",
       "    <tr>\n",
       "      <th>499</th>\n",
       "      <td>A3D0SBB68TTET</td>\n",
       "      <td>9746427962</td>\n",
       "      <td>5.0</td>\n",
       "      <td>1350086400</td>\n",
       "    </tr>\n",
       "  </tbody>\n",
       "</table>\n",
       "</div>"
      ],
      "text/plain": [
       "            user_id  product_id  rating   timestamp\n",
       "341   AS5RB0XRDQZCS  7806397051     5.0  1346544000\n",
       "494   AVIFRWR2YKO73  9746427962     2.0  1348617600\n",
       "496  A14IT4G4FZFEP6  9746427962     5.0  1348012800\n",
       "498  A2WTWKGP9WES1Q  9746427962     1.0  1349654400\n",
       "499   A3D0SBB68TTET  9746427962     5.0  1350086400"
      ]
     },
     "execution_count": 25,
     "metadata": {},
     "output_type": "execute_result"
    }
   ],
   "source": [
    "start_2012 =  1325376000\n",
    "end_2012 = 1356998399\n",
    "year_2012 = top_reviewed_df.loc[(top_reviewed_df[\"timestamp\"] >= start_2012) &\n",
    "                     (top_reviewed_df[\"timestamp\"] <= end_2012)]\n",
    "year_2012.head(5)"
   ]
  },
  {
   "cell_type": "markdown",
   "metadata": {},
   "source": [
    "lets find most frequent rated products of 2012 ( TOP 5)"
   ]
  },
  {
   "cell_type": "code",
   "execution_count": 26,
   "metadata": {},
   "outputs": [
    {
     "data": {
      "text/html": [
       "<div>\n",
       "<style scoped>\n",
       "    .dataframe tbody tr th:only-of-type {\n",
       "        vertical-align: middle;\n",
       "    }\n",
       "\n",
       "    .dataframe tbody tr th {\n",
       "        vertical-align: top;\n",
       "    }\n",
       "\n",
       "    .dataframe thead th {\n",
       "        text-align: right;\n",
       "    }\n",
       "</style>\n",
       "<table border=\"1\" class=\"dataframe\">\n",
       "  <thead>\n",
       "    <tr style=\"text-align: right;\">\n",
       "      <th></th>\n",
       "      <th>product_id</th>\n",
       "      <th>user_id</th>\n",
       "      <th>rating</th>\n",
       "      <th>timestamp</th>\n",
       "    </tr>\n",
       "  </thead>\n",
       "  <tbody>\n",
       "    <tr>\n",
       "      <th>4882</th>\n",
       "      <td>B001MA0QY2</td>\n",
       "      <td>1815</td>\n",
       "      <td>1815</td>\n",
       "      <td>1815</td>\n",
       "    </tr>\n",
       "    <tr>\n",
       "      <th>9330</th>\n",
       "      <td>B00639DLV2</td>\n",
       "      <td>937</td>\n",
       "      <td>937</td>\n",
       "      <td>937</td>\n",
       "    </tr>\n",
       "    <tr>\n",
       "      <th>7460</th>\n",
       "      <td>B0043OYFKU</td>\n",
       "      <td>457</td>\n",
       "      <td>457</td>\n",
       "      <td>457</td>\n",
       "    </tr>\n",
       "    <tr>\n",
       "      <th>4746</th>\n",
       "      <td>B001JKTTVQ</td>\n",
       "      <td>441</td>\n",
       "      <td>441</td>\n",
       "      <td>441</td>\n",
       "    </tr>\n",
       "    <tr>\n",
       "      <th>7171</th>\n",
       "      <td>B003V265QW</td>\n",
       "      <td>382</td>\n",
       "      <td>382</td>\n",
       "      <td>382</td>\n",
       "    </tr>\n",
       "  </tbody>\n",
       "</table>\n",
       "</div>"
      ],
      "text/plain": [
       "      product_id  user_id  rating  timestamp\n",
       "4882  B001MA0QY2     1815    1815       1815\n",
       "9330  B00639DLV2      937     937        937\n",
       "7460  B0043OYFKU      457     457        457\n",
       "4746  B001JKTTVQ      441     441        441\n",
       "7171  B003V265QW      382     382        382"
      ]
     },
     "execution_count": 26,
     "metadata": {},
     "output_type": "execute_result"
    }
   ],
   "source": [
    "top5_most_rated_2012 = year_2012.groupby(by=\"product_id\", as_index=False ).count().sort_values(by=\"rating\", ascending=False).head(5)\n",
    "top5_most_rated_2012.head(5)"
   ]
  },
  {
   "cell_type": "markdown",
   "metadata": {},
   "source": [
    "these top 5 of most products rated in spring of 2012 and now we are gonna draw a diagram for time series of these products"
   ]
  },
  {
   "cell_type": "code",
   "execution_count": 27,
   "metadata": {},
   "outputs": [
    {
     "data": {
      "text/html": [
       "<div>\n",
       "<style scoped>\n",
       "    .dataframe tbody tr th:only-of-type {\n",
       "        vertical-align: middle;\n",
       "    }\n",
       "\n",
       "    .dataframe tbody tr th {\n",
       "        vertical-align: top;\n",
       "    }\n",
       "\n",
       "    .dataframe thead th {\n",
       "        text-align: right;\n",
       "    }\n",
       "</style>\n",
       "<table border=\"1\" class=\"dataframe\">\n",
       "  <thead>\n",
       "    <tr style=\"text-align: right;\">\n",
       "      <th></th>\n",
       "      <th>user_id</th>\n",
       "      <th>product_id</th>\n",
       "      <th>rating</th>\n",
       "      <th>timestamp</th>\n",
       "    </tr>\n",
       "  </thead>\n",
       "  <tbody>\n",
       "    <tr>\n",
       "      <th>718122</th>\n",
       "      <td>A3IKQJVJ6QAL3C</td>\n",
       "      <td>B001JKTTVQ</td>\n",
       "      <td>1.0</td>\n",
       "      <td>1346112000</td>\n",
       "    </tr>\n",
       "    <tr>\n",
       "      <th>718125</th>\n",
       "      <td>A3FR78C9JNHHCO</td>\n",
       "      <td>B001JKTTVQ</td>\n",
       "      <td>5.0</td>\n",
       "      <td>1347062400</td>\n",
       "    </tr>\n",
       "    <tr>\n",
       "      <th>718126</th>\n",
       "      <td>A14ZTP5EK4Q8CB</td>\n",
       "      <td>B001JKTTVQ</td>\n",
       "      <td>5.0</td>\n",
       "      <td>1332374400</td>\n",
       "    </tr>\n",
       "    <tr>\n",
       "      <th>718127</th>\n",
       "      <td>AZFRZ3WVS46OR</td>\n",
       "      <td>B001JKTTVQ</td>\n",
       "      <td>4.0</td>\n",
       "      <td>1353888000</td>\n",
       "    </tr>\n",
       "    <tr>\n",
       "      <th>718133</th>\n",
       "      <td>A2M1DBI9NHPKHB</td>\n",
       "      <td>B001JKTTVQ</td>\n",
       "      <td>5.0</td>\n",
       "      <td>1348444800</td>\n",
       "    </tr>\n",
       "  </tbody>\n",
       "</table>\n",
       "</div>"
      ],
      "text/plain": [
       "               user_id  product_id  rating   timestamp\n",
       "718122  A3IKQJVJ6QAL3C  B001JKTTVQ     1.0  1346112000\n",
       "718125  A3FR78C9JNHHCO  B001JKTTVQ     5.0  1347062400\n",
       "718126  A14ZTP5EK4Q8CB  B001JKTTVQ     5.0  1332374400\n",
       "718127   AZFRZ3WVS46OR  B001JKTTVQ     4.0  1353888000\n",
       "718133  A2M1DBI9NHPKHB  B001JKTTVQ     5.0  1348444800"
      ]
     },
     "execution_count": 27,
     "metadata": {},
     "output_type": "execute_result"
    }
   ],
   "source": [
    "most_hitted_2012 = year_2012.loc[year_2012[\"product_id\"].isin(top5_most_rated_2012[\"product_id\"])]\n",
    "most_hitted_2012.head()"
   ]
  },
  {
   "cell_type": "code",
   "execution_count": 28,
   "metadata": {},
   "outputs": [
    {
     "data": {
      "text/html": [
       "<div>\n",
       "<style scoped>\n",
       "    .dataframe tbody tr th:only-of-type {\n",
       "        vertical-align: middle;\n",
       "    }\n",
       "\n",
       "    .dataframe tbody tr th {\n",
       "        vertical-align: top;\n",
       "    }\n",
       "\n",
       "    .dataframe thead th {\n",
       "        text-align: right;\n",
       "    }\n",
       "</style>\n",
       "<table border=\"1\" class=\"dataframe\">\n",
       "  <thead>\n",
       "    <tr style=\"text-align: right;\">\n",
       "      <th></th>\n",
       "      <th>product_id</th>\n",
       "      <th>timestamp</th>\n",
       "      <th>user_id</th>\n",
       "      <th>rating</th>\n",
       "    </tr>\n",
       "  </thead>\n",
       "  <tbody>\n",
       "    <tr>\n",
       "      <th>0</th>\n",
       "      <td>B001JKTTVQ</td>\n",
       "      <td>1325462400</td>\n",
       "      <td>1</td>\n",
       "      <td>1</td>\n",
       "    </tr>\n",
       "    <tr>\n",
       "      <th>1</th>\n",
       "      <td>B001JKTTVQ</td>\n",
       "      <td>1325548800</td>\n",
       "      <td>1</td>\n",
       "      <td>1</td>\n",
       "    </tr>\n",
       "    <tr>\n",
       "      <th>2</th>\n",
       "      <td>B001JKTTVQ</td>\n",
       "      <td>1325635200</td>\n",
       "      <td>2</td>\n",
       "      <td>2</td>\n",
       "    </tr>\n",
       "  </tbody>\n",
       "</table>\n",
       "</div>"
      ],
      "text/plain": [
       "   product_id   timestamp  user_id  rating\n",
       "0  B001JKTTVQ  1325462400        1       1\n",
       "1  B001JKTTVQ  1325548800        1       1\n",
       "2  B001JKTTVQ  1325635200        2       2"
      ]
     },
     "execution_count": 28,
     "metadata": {},
     "output_type": "execute_result"
    }
   ],
   "source": [
    "counted = most_hitted_2012.groupby(by=[\"product_id\", \"timestamp\"], as_index=False).count()\n",
    "counted.head(3)"
   ]
  },
  {
   "cell_type": "code",
   "execution_count": 30,
   "metadata": {},
   "outputs": [
    {
     "data": {
      "image/png": "[encoded data removed]",
      "text/plain": [
       "<Figure size 1146.38x500 with 1 Axes>"
      ]
     },
     "metadata": {},
     "output_type": "display_data"
    }
   ],
   "source": [
    "g = sns.relplot(data=counted,\n",
    "            x=\"timestamp\",\n",
    "            y=\"rating\",\n",
    "            hue=\"product_id\",\n",
    "            kind=\"line\",\n",
    "            aspect=2,\n",
    "            height=5)\n"
   ]
  },
  {
   "cell_type": "markdown",
   "metadata": {},
   "source": [
    "or if we can just look at **two products**:"
   ]
  },
  {
   "cell_type": "code",
   "execution_count": 32,
   "metadata": {},
   "outputs": [
    {
     "data": {
      "text/html": [
       "<div>\n",
       "<style scoped>\n",
       "    .dataframe tbody tr th:only-of-type {\n",
       "        vertical-align: middle;\n",
       "    }\n",
       "\n",
       "    .dataframe tbody tr th {\n",
       "        vertical-align: top;\n",
       "    }\n",
       "\n",
       "    .dataframe thead th {\n",
       "        text-align: right;\n",
       "    }\n",
       "</style>\n",
       "<table border=\"1\" class=\"dataframe\">\n",
       "  <thead>\n",
       "    <tr style=\"text-align: right;\">\n",
       "      <th></th>\n",
       "      <th>product_id</th>\n",
       "      <th>timestamp</th>\n",
       "      <th>user_id</th>\n",
       "      <th>rating</th>\n",
       "    </tr>\n",
       "  </thead>\n",
       "  <tbody>\n",
       "    <tr>\n",
       "      <th>0</th>\n",
       "      <td>B001JKTTVQ</td>\n",
       "      <td>1325462400</td>\n",
       "      <td>1</td>\n",
       "      <td>1</td>\n",
       "    </tr>\n",
       "    <tr>\n",
       "      <th>1</th>\n",
       "      <td>B001JKTTVQ</td>\n",
       "      <td>1325548800</td>\n",
       "      <td>1</td>\n",
       "      <td>1</td>\n",
       "    </tr>\n",
       "    <tr>\n",
       "      <th>2</th>\n",
       "      <td>B001JKTTVQ</td>\n",
       "      <td>1325635200</td>\n",
       "      <td>2</td>\n",
       "      <td>2</td>\n",
       "    </tr>\n",
       "    <tr>\n",
       "      <th>3</th>\n",
       "      <td>B001JKTTVQ</td>\n",
       "      <td>1325721600</td>\n",
       "      <td>1</td>\n",
       "      <td>1</td>\n",
       "    </tr>\n",
       "    <tr>\n",
       "      <th>4</th>\n",
       "      <td>B001JKTTVQ</td>\n",
       "      <td>1325894400</td>\n",
       "      <td>1</td>\n",
       "      <td>1</td>\n",
       "    </tr>\n",
       "  </tbody>\n",
       "</table>\n",
       "</div>"
      ],
      "text/plain": [
       "   product_id   timestamp  user_id  rating\n",
       "0  B001JKTTVQ  1325462400        1       1\n",
       "1  B001JKTTVQ  1325548800        1       1\n",
       "2  B001JKTTVQ  1325635200        2       2\n",
       "3  B001JKTTVQ  1325721600        1       1\n",
       "4  B001JKTTVQ  1325894400        1       1"
      ]
     },
     "execution_count": 32,
     "metadata": {},
     "output_type": "execute_result"
    }
   ],
   "source": [
    "counted = counted.loc[ counted[\"product_id\"].isin([\"B0043OYFKU\", \"B001JKTTVQ\"])]\n",
    "counted.head()"
   ]
  },
  {
   "cell_type": "code",
   "execution_count": 34,
   "metadata": {},
   "outputs": [
    {
     "data": {
      "image/png": "[encoded data removed]",
      "text/plain": [
       "<Figure size 1139.88x500 with 1 Axes>"
      ]
     },
     "metadata": {},
     "output_type": "display_data"
    }
   ],
   "source": [
    "g = sns.relplot(data=counted,\n",
    "            x=\"timestamp\",\n",
    "            y=\"rating\",\n",
    "            hue=\"product_id\",\n",
    "            kind=\"line\",\n",
    "            height = 5,\n",
    "            aspect = 2)\n"
   ]
  },
  {
   "cell_type": "markdown",
   "metadata": {},
   "source": [
    "# Conclusion:\n",
    "\n",
    "**Strengths:**\n",
    "\n",
    "1. The dataset exhibits remarkable cleanliness, with no instances of null, NAN, or duplicated values, contributing to its reliability and ease of analysis.\n",
    "\n",
    "2. The temporal structure of the dataset makes it exceptionally well-suited for time series analysis, allowing for the exploration of trends and patterns over a specific period.\n",
    "\n",
    "3. The dataset is highly conducive to RFM (Recency, Frequency, Monetary) analysis, offering valuable insights into customer behavior and segmentation.\n",
    "\n",
    "**Weaknesses:**\n",
    "\n",
    "1. The primary drawback lies in the dataset's age, spanning from 2000 to 2014, indicating a need for an update to incorporate more recent information and align with contemporary trends.\n",
    "\n",
    "2. A significant weakness arises from the lack of defined attributes such as product names, product categories, owner's country/city, and user information. This limitation renders the dataset unsuitable for tasks related to product pricing, as the essential details for such analyses are not present. Addressing this deficiency would enhance the dataset's usability across a broader spectrum of analytics.\n"
   ]
  },
  {
   "cell_type": "code",
   "execution_count": null,
   "metadata": {},
   "outputs": [],
   "source": []
  }
 ],
 "metadata": {
  "kernelspec": {
   "display_name": "Python 3",
   "language": "python",
   "name": "python3"
  },
  "language_info": {
   "codemirror_mode": {
    "name": "ipython",
    "version": 3
   },
   "file_extension": ".py",
   "mimetype": "text/x-python",
   "name": "python",
   "nbconvert_exporter": "python",
   "pygments_lexer": "ipython3",
   "version": "3.11.0"
  }
 },
 "nbformat": 4,
 "nbformat_minor": 2
}
