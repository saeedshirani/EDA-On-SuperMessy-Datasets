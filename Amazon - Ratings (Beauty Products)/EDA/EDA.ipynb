{
 "cells": [
  {
   "cell_type": "markdown",
   "metadata": {},
   "source": [
    "# EDA on Rating beauty products of amazon dataset"
   ]
  },
  {
   "cell_type": "code",
   "execution_count": 1,
   "metadata": {},
   "outputs": [],
   "source": [
    "import pandas as pd\n",
    "import numpy as np\n",
    "import datetime\n",
    "import matplotlib.pyplot as plt \n",
    "\n",
    "from sklearn.preprocessing import StandardScaler\n",
    "from sklearn.cluster import KMeans\n",
    "\n",
    "\n",
    "%matplotlib inline"
   ]
  },
  {
   "cell_type": "code",
   "execution_count": 2,
   "metadata": {},
   "outputs": [
    {
     "data": {
      "text/html": [
       "<div>\n",
       "<style scoped>\n",
       "    .dataframe tbody tr th:only-of-type {\n",
       "        vertical-align: middle;\n",
       "    }\n",
       "\n",
       "    .dataframe tbody tr th {\n",
       "        vertical-align: top;\n",
       "    }\n",
       "\n",
       "    .dataframe thead th {\n",
       "        text-align: right;\n",
       "    }\n",
       "</style>\n",
       "<table border=\"1\" class=\"dataframe\">\n",
       "  <thead>\n",
       "    <tr style=\"text-align: right;\">\n",
       "      <th></th>\n",
       "      <th>UserId</th>\n",
       "      <th>ProductId</th>\n",
       "      <th>Rating</th>\n",
       "      <th>Timestamp</th>\n",
       "    </tr>\n",
       "  </thead>\n",
       "  <tbody>\n",
       "    <tr>\n",
       "      <th>0</th>\n",
       "      <td>A39HTATAQ9V7YF</td>\n",
       "      <td>0205616461</td>\n",
       "      <td>5.0</td>\n",
       "      <td>1369699200</td>\n",
       "    </tr>\n",
       "    <tr>\n",
       "      <th>1</th>\n",
       "      <td>A3JM6GV9MNOF9X</td>\n",
       "      <td>0558925278</td>\n",
       "      <td>3.0</td>\n",
       "      <td>1355443200</td>\n",
       "    </tr>\n",
       "    <tr>\n",
       "      <th>2</th>\n",
       "      <td>A1Z513UWSAAO0F</td>\n",
       "      <td>0558925278</td>\n",
       "      <td>5.0</td>\n",
       "      <td>1404691200</td>\n",
       "    </tr>\n",
       "  </tbody>\n",
       "</table>\n",
       "</div>"
      ],
      "text/plain": [
       "           UserId   ProductId  Rating   Timestamp\n",
       "0  A39HTATAQ9V7YF  0205616461     5.0  1369699200\n",
       "1  A3JM6GV9MNOF9X  0558925278     3.0  1355443200\n",
       "2  A1Z513UWSAAO0F  0558925278     5.0  1404691200"
      ]
     },
     "execution_count": 2,
     "metadata": {},
     "output_type": "execute_result"
    }
   ],
   "source": [
    "path = \"./ratings_Beauty.csv\"\n",
    "data = pd.read_csv(path)\n",
    "df = pd.DataFrame(data=data)\n",
    "df.head(3)"
   ]
  },
  {
   "cell_type": "code",
   "execution_count": 3,
   "metadata": {},
   "outputs": [
    {
     "data": {
      "text/html": [
       "<div>\n",
       "<style scoped>\n",
       "    .dataframe tbody tr th:only-of-type {\n",
       "        vertical-align: middle;\n",
       "    }\n",
       "\n",
       "    .dataframe tbody tr th {\n",
       "        vertical-align: top;\n",
       "    }\n",
       "\n",
       "    .dataframe thead th {\n",
       "        text-align: right;\n",
       "    }\n",
       "</style>\n",
       "<table border=\"1\" class=\"dataframe\">\n",
       "  <thead>\n",
       "    <tr style=\"text-align: right;\">\n",
       "      <th></th>\n",
       "      <th>user_id</th>\n",
       "      <th>product_id</th>\n",
       "      <th>rating</th>\n",
       "      <th>time</th>\n",
       "    </tr>\n",
       "  </thead>\n",
       "  <tbody>\n",
       "    <tr>\n",
       "      <th>0</th>\n",
       "      <td>A39HTATAQ9V7YF</td>\n",
       "      <td>0205616461</td>\n",
       "      <td>5.0</td>\n",
       "      <td>1369699200</td>\n",
       "    </tr>\n",
       "    <tr>\n",
       "      <th>1</th>\n",
       "      <td>A3JM6GV9MNOF9X</td>\n",
       "      <td>0558925278</td>\n",
       "      <td>3.0</td>\n",
       "      <td>1355443200</td>\n",
       "    </tr>\n",
       "  </tbody>\n",
       "</table>\n",
       "</div>"
      ],
      "text/plain": [
       "          user_id  product_id  rating        time\n",
       "0  A39HTATAQ9V7YF  0205616461     5.0  1369699200\n",
       "1  A3JM6GV9MNOF9X  0558925278     3.0  1355443200"
      ]
     },
     "execution_count": 3,
     "metadata": {},
     "output_type": "execute_result"
    }
   ],
   "source": [
    "df.columns = [\"user_id\", \"product_id\", \"rating\", \"time\"]\n",
    "df[:2]"
   ]
  },
  {
   "cell_type": "markdown",
   "metadata": {},
   "source": [
    "## Data cleaning"
   ]
  },
  {
   "cell_type": "code",
   "execution_count": 4,
   "metadata": {},
   "outputs": [
    {
     "data": {
      "text/plain": [
       "user_id       False\n",
       "product_id    False\n",
       "rating        False\n",
       "time          False\n",
       "dtype: bool"
      ]
     },
     "execution_count": 4,
     "metadata": {},
     "output_type": "execute_result"
    }
   ],
   "source": [
    "# Looking for NAN Values\n",
    "df[df.isna()].any()"
   ]
  },
  {
   "cell_type": "code",
   "execution_count": 5,
   "metadata": {},
   "outputs": [
    {
     "data": {
      "text/plain": [
       "user_id       False\n",
       "product_id    False\n",
       "rating        False\n",
       "time          False\n",
       "dtype: bool"
      ]
     },
     "execution_count": 5,
     "metadata": {},
     "output_type": "execute_result"
    }
   ],
   "source": [
    "# Looking for null valus\n",
    "df[df.isnull()].any()"
   ]
  },
  {
   "cell_type": "code",
   "execution_count": 6,
   "metadata": {},
   "outputs": [
    {
     "data": {
      "text/html": [
       "<div>\n",
       "<style scoped>\n",
       "    .dataframe tbody tr th:only-of-type {\n",
       "        vertical-align: middle;\n",
       "    }\n",
       "\n",
       "    .dataframe tbody tr th {\n",
       "        vertical-align: top;\n",
       "    }\n",
       "\n",
       "    .dataframe thead th {\n",
       "        text-align: right;\n",
       "    }\n",
       "</style>\n",
       "<table border=\"1\" class=\"dataframe\">\n",
       "  <thead>\n",
       "    <tr style=\"text-align: right;\">\n",
       "      <th></th>\n",
       "      <th>rating</th>\n",
       "      <th>time</th>\n",
       "    </tr>\n",
       "  </thead>\n",
       "  <tbody>\n",
       "    <tr>\n",
       "      <th>count</th>\n",
       "      <td>2.023070e+06</td>\n",
       "      <td>2.023070e+06</td>\n",
       "    </tr>\n",
       "    <tr>\n",
       "      <th>mean</th>\n",
       "      <td>4.149036e+00</td>\n",
       "      <td>1.360389e+09</td>\n",
       "    </tr>\n",
       "    <tr>\n",
       "      <th>std</th>\n",
       "      <td>1.311505e+00</td>\n",
       "      <td>4.611860e+07</td>\n",
       "    </tr>\n",
       "    <tr>\n",
       "      <th>min</th>\n",
       "      <td>1.000000e+00</td>\n",
       "      <td>9.087552e+08</td>\n",
       "    </tr>\n",
       "    <tr>\n",
       "      <th>25%</th>\n",
       "      <td>4.000000e+00</td>\n",
       "      <td>1.350259e+09</td>\n",
       "    </tr>\n",
       "    <tr>\n",
       "      <th>50%</th>\n",
       "      <td>5.000000e+00</td>\n",
       "      <td>1.372810e+09</td>\n",
       "    </tr>\n",
       "    <tr>\n",
       "      <th>75%</th>\n",
       "      <td>5.000000e+00</td>\n",
       "      <td>1.391472e+09</td>\n",
       "    </tr>\n",
       "    <tr>\n",
       "      <th>max</th>\n",
       "      <td>5.000000e+00</td>\n",
       "      <td>1.406074e+09</td>\n",
       "    </tr>\n",
       "  </tbody>\n",
       "</table>\n",
       "</div>"
      ],
      "text/plain": [
       "             rating          time\n",
       "count  2.023070e+06  2.023070e+06\n",
       "mean   4.149036e+00  1.360389e+09\n",
       "std    1.311505e+00  4.611860e+07\n",
       "min    1.000000e+00  9.087552e+08\n",
       "25%    4.000000e+00  1.350259e+09\n",
       "50%    5.000000e+00  1.372810e+09\n",
       "75%    5.000000e+00  1.391472e+09\n",
       "max    5.000000e+00  1.406074e+09"
      ]
     },
     "execution_count": 6,
     "metadata": {},
     "output_type": "execute_result"
    }
   ],
   "source": [
    "df.describe()"
   ]
  },
  {
   "cell_type": "code",
   "execution_count": 7,
   "metadata": {},
   "outputs": [
    {
     "name": "stdout",
     "output_type": "stream",
     "text": [
      "<class 'pandas.core.frame.DataFrame'>\n",
      "RangeIndex: 2023070 entries, 0 to 2023069\n",
      "Data columns (total 4 columns):\n",
      " #   Column      Dtype  \n",
      "---  ------      -----  \n",
      " 0   user_id     object \n",
      " 1   product_id  object \n",
      " 2   rating      float64\n",
      " 3   time        int64  \n",
      "dtypes: float64(1), int64(1), object(2)\n",
      "memory usage: 61.7+ MB\n"
     ]
    }
   ],
   "source": [
    "df.info()"
   ]
  },
  {
   "cell_type": "markdown",
   "metadata": {},
   "source": [
    "there is no nan, null or outlier in our dataset\n",
    "\n",
    "data type of int64 - Timestamp is scaled in Unix time system and i leave it as it is\n"
   ]
  },
  {
   "cell_type": "markdown",
   "metadata": {},
   "source": [
    "# Analysis Based on Products"
   ]
  },
  {
   "cell_type": "code",
   "execution_count": 8,
   "metadata": {},
   "outputs": [
    {
     "data": {
      "text/html": [
       "<div>\n",
       "<style scoped>\n",
       "    .dataframe tbody tr th:only-of-type {\n",
       "        vertical-align: middle;\n",
       "    }\n",
       "\n",
       "    .dataframe tbody tr th {\n",
       "        vertical-align: top;\n",
       "    }\n",
       "\n",
       "    .dataframe thead th {\n",
       "        text-align: right;\n",
       "    }\n",
       "</style>\n",
       "<table border=\"1\" class=\"dataframe\">\n",
       "  <thead>\n",
       "    <tr style=\"text-align: right;\">\n",
       "      <th></th>\n",
       "      <th>number_of_ratings</th>\n",
       "      <th>average_score</th>\n",
       "      <th>start</th>\n",
       "    </tr>\n",
       "    <tr>\n",
       "      <th>product_id</th>\n",
       "      <th></th>\n",
       "      <th></th>\n",
       "      <th></th>\n",
       "    </tr>\n",
       "  </thead>\n",
       "  <tbody>\n",
       "    <tr>\n",
       "      <th>0205616461</th>\n",
       "      <td>1</td>\n",
       "      <td>5.0</td>\n",
       "      <td>1369699200</td>\n",
       "    </tr>\n",
       "    <tr>\n",
       "      <th>0558925278</th>\n",
       "      <td>2</td>\n",
       "      <td>4.0</td>\n",
       "      <td>1355443200</td>\n",
       "    </tr>\n",
       "    <tr>\n",
       "      <th>0733001998</th>\n",
       "      <td>1</td>\n",
       "      <td>4.0</td>\n",
       "      <td>1382572800</td>\n",
       "    </tr>\n",
       "    <tr>\n",
       "      <th>0737104473</th>\n",
       "      <td>1</td>\n",
       "      <td>1.0</td>\n",
       "      <td>1274227200</td>\n",
       "    </tr>\n",
       "    <tr>\n",
       "      <th>0762451459</th>\n",
       "      <td>1</td>\n",
       "      <td>5.0</td>\n",
       "      <td>1404518400</td>\n",
       "    </tr>\n",
       "  </tbody>\n",
       "</table>\n",
       "</div>"
      ],
      "text/plain": [
       "            number_of_ratings  average_score       start\n",
       "product_id                                              \n",
       "0205616461                  1            5.0  1369699200\n",
       "0558925278                  2            4.0  1355443200\n",
       "0733001998                  1            4.0  1382572800\n",
       "0737104473                  1            1.0  1274227200\n",
       "0762451459                  1            5.0  1404518400"
      ]
     },
     "execution_count": 8,
     "metadata": {},
     "output_type": "execute_result"
    }
   ],
   "source": [
    "count_product = df.groupby(by=\"product_id\").agg({\"user_id\" : \"count\", \"rating\" : \"mean\", \"time\": \"min\"})\n",
    "count_product.columns = [\"number_of_ratings\", \"average_score\", \"start\"]\n",
    "count_product.head()"
   ]
  },
  {
   "cell_type": "markdown",
   "metadata": {},
   "source": [
    "we must look at outliers of number_of_ratings column\n",
    "\n",
    "for having perfect decision making it is better to have a normal distribution, so i pick products with at least rated 30 times"
   ]
  },
  {
   "cell_type": "code",
   "execution_count": 9,
   "metadata": {},
   "outputs": [
    {
     "data": {
      "text/html": [
       "<div>\n",
       "<style scoped>\n",
       "    .dataframe tbody tr th:only-of-type {\n",
       "        vertical-align: middle;\n",
       "    }\n",
       "\n",
       "    .dataframe tbody tr th {\n",
       "        vertical-align: top;\n",
       "    }\n",
       "\n",
       "    .dataframe thead th {\n",
       "        text-align: right;\n",
       "    }\n",
       "</style>\n",
       "<table border=\"1\" class=\"dataframe\">\n",
       "  <thead>\n",
       "    <tr style=\"text-align: right;\">\n",
       "      <th></th>\n",
       "      <th>number_of_ratings</th>\n",
       "      <th>average_score</th>\n",
       "      <th>start</th>\n",
       "    </tr>\n",
       "    <tr>\n",
       "      <th>product_id</th>\n",
       "      <th></th>\n",
       "      <th></th>\n",
       "      <th></th>\n",
       "    </tr>\n",
       "  </thead>\n",
       "  <tbody>\n",
       "    <tr>\n",
       "      <th>7806397051</th>\n",
       "      <td>35</td>\n",
       "      <td>3.285714</td>\n",
       "      <td>1346544000</td>\n",
       "    </tr>\n",
       "    <tr>\n",
       "      <th>9746427962</th>\n",
       "      <td>41</td>\n",
       "      <td>4.609756</td>\n",
       "      <td>1296691200</td>\n",
       "    </tr>\n",
       "    <tr>\n",
       "      <th>9759091062</th>\n",
       "      <td>40</td>\n",
       "      <td>3.125000</td>\n",
       "      <td>1346716800</td>\n",
       "    </tr>\n",
       "    <tr>\n",
       "      <th>9788071198</th>\n",
       "      <td>36</td>\n",
       "      <td>3.833333</td>\n",
       "      <td>1340582400</td>\n",
       "    </tr>\n",
       "    <tr>\n",
       "      <th>9788072216</th>\n",
       "      <td>34</td>\n",
       "      <td>4.529412</td>\n",
       "      <td>1316390400</td>\n",
       "    </tr>\n",
       "  </tbody>\n",
       "</table>\n",
       "</div>"
      ],
      "text/plain": [
       "            number_of_ratings  average_score       start\n",
       "product_id                                              \n",
       "7806397051                 35       3.285714  1346544000\n",
       "9746427962                 41       4.609756  1296691200\n",
       "9759091062                 40       3.125000  1346716800\n",
       "9788071198                 36       3.833333  1340582400\n",
       "9788072216                 34       4.529412  1316390400"
      ]
     },
     "execution_count": 9,
     "metadata": {},
     "output_type": "execute_result"
    }
   ],
   "source": [
    "count_product = count_product.loc[ count_product[\"number_of_ratings\"] > 30]\n",
    "count_product.head()"
   ]
  },
  {
   "cell_type": "markdown",
   "metadata": {},
   "source": [
    "time series\n",
    "hypothesis testing\n",
    "product histogram\n",
    "\n"
   ]
  },
  {
   "cell_type": "markdown",
   "metadata": {},
   "source": [
    "## Rating prediction per product"
   ]
  },
  {
   "cell_type": "markdown",
   "metadata": {},
   "source": [
    "I'd like to assess whether the data is suitable for time series analysis. If it proves suitable, I plan to employ a model to predict the quantity and average of ratings for a specific product within a relevant timeframe."
   ]
  },
  {
   "cell_type": "code",
   "execution_count": 10,
   "metadata": {},
   "outputs": [],
   "source": [
    "# lets find a product which is rated 100 times\n",
    "rated700_times_product = count_product.loc[ count_product[\"number_of_ratings\"] > 700][:1]\n",
    "selected_product_id = rated700_times_product.index[0]"
   ]
  },
  {
   "cell_type": "code",
   "execution_count": 11,
   "metadata": {},
   "outputs": [
    {
     "data": {
      "text/html": [
       "<div>\n",
       "<style scoped>\n",
       "    .dataframe tbody tr th:only-of-type {\n",
       "        vertical-align: middle;\n",
       "    }\n",
       "\n",
       "    .dataframe tbody tr th {\n",
       "        vertical-align: top;\n",
       "    }\n",
       "\n",
       "    .dataframe thead th {\n",
       "        text-align: right;\n",
       "    }\n",
       "</style>\n",
       "<table border=\"1\" class=\"dataframe\">\n",
       "  <thead>\n",
       "    <tr style=\"text-align: right;\">\n",
       "      <th></th>\n",
       "      <th>time</th>\n",
       "      <th>average_rating</th>\n",
       "      <th>frequency</th>\n",
       "    </tr>\n",
       "  </thead>\n",
       "  <tbody>\n",
       "    <tr>\n",
       "      <th>0</th>\n",
       "      <td>1120867200</td>\n",
       "      <td>5.0</td>\n",
       "      <td>1</td>\n",
       "    </tr>\n",
       "    <tr>\n",
       "      <th>1</th>\n",
       "      <td>1126310400</td>\n",
       "      <td>5.0</td>\n",
       "      <td>1</td>\n",
       "    </tr>\n",
       "  </tbody>\n",
       "</table>\n",
       "</div>"
      ],
      "text/plain": [
       "         time  average_rating  frequency\n",
       "0  1120867200             5.0          1\n",
       "1  1126310400             5.0          1"
      ]
     },
     "execution_count": 11,
     "metadata": {},
     "output_type": "execute_result"
    }
   ],
   "source": [
    "# lets find id in main data frame\n",
    "product_data = df.loc[df[\"product_id\"] == selected_product_id]\n",
    "avg_rating_per_time = product_data.groupby(by=\"time\", as_index=False).agg({\"rating\" : \"mean\", \"user_id\": \"count\"}).sort_values(by=\"time\", ascending=True)\n",
    "avg_rating_per_time.columns = [\"time\", \"average_rating\", \"frequency\"]\n",
    "avg_rating_per_time.head(2)"
   ]
  },
  {
   "cell_type": "markdown",
   "metadata": {},
   "source": [
    "start time of rates for this product is 1120867200 which is equal to 9 july 2005 \n",
    "\n",
    "i will start from 1 july 2005, lets create month bins "
   ]
  },
  {
   "cell_type": "code",
   "execution_count": 12,
   "metadata": {},
   "outputs": [
    {
     "data": {
      "text/html": [
       "<div>\n",
       "<style scoped>\n",
       "    .dataframe tbody tr th:only-of-type {\n",
       "        vertical-align: middle;\n",
       "    }\n",
       "\n",
       "    .dataframe tbody tr th {\n",
       "        vertical-align: top;\n",
       "    }\n",
       "\n",
       "    .dataframe thead th {\n",
       "        text-align: right;\n",
       "    }\n",
       "</style>\n",
       "<table border=\"1\" class=\"dataframe\">\n",
       "  <thead>\n",
       "    <tr style=\"text-align: right;\">\n",
       "      <th></th>\n",
       "      <th>time</th>\n",
       "      <th>average_rating</th>\n",
       "      <th>frequency</th>\n",
       "      <th>month</th>\n",
       "    </tr>\n",
       "  </thead>\n",
       "  <tbody>\n",
       "    <tr>\n",
       "      <th>0</th>\n",
       "      <td>1120867200</td>\n",
       "      <td>5.0</td>\n",
       "      <td>1</td>\n",
       "      <td>1</td>\n",
       "    </tr>\n",
       "    <tr>\n",
       "      <th>1</th>\n",
       "      <td>1126310400</td>\n",
       "      <td>5.0</td>\n",
       "      <td>1</td>\n",
       "      <td>3</td>\n",
       "    </tr>\n",
       "    <tr>\n",
       "      <th>2</th>\n",
       "      <td>1131926400</td>\n",
       "      <td>5.0</td>\n",
       "      <td>1</td>\n",
       "      <td>5</td>\n",
       "    </tr>\n",
       "  </tbody>\n",
       "</table>\n",
       "</div>"
      ],
      "text/plain": [
       "         time  average_rating  frequency  month\n",
       "0  1120867200             5.0          1      1\n",
       "1  1126310400             5.0          1      3\n",
       "2  1131926400             5.0          1      5"
      ]
     },
     "execution_count": 12,
     "metadata": {},
     "output_type": "execute_result"
    }
   ],
   "source": [
    "# Function to convert Unix timestamp to month\n",
    "def unix_timestamp_to_month(timestamp, start_bin_timestamp):\n",
    "    start_bin_date = datetime.datetime.utcfromtimestamp(start_bin_timestamp)\n",
    "    target_date = datetime.datetime.utcfromtimestamp(timestamp)\n",
    "    months_difference = (target_date.year - start_bin_date.year) * 12 + (target_date.month - start_bin_date.month)\n",
    "    return months_difference\n",
    "\n",
    "# Specify the start of the month bin (July 1, 2005)\n",
    "start_bin_timestamp = 1117593600\n",
    "\n",
    "\n",
    "avg_rating_per_time['month'] = avg_rating_per_time['time'].apply(lambda x: unix_timestamp_to_month(x, start_bin_timestamp))\n",
    "avg_rating_per_time.head(3)\n"
   ]
  },
  {
   "cell_type": "code",
   "execution_count": 13,
   "metadata": {},
   "outputs": [
    {
     "data": {
      "text/html": [
       "<div>\n",
       "<style scoped>\n",
       "    .dataframe tbody tr th:only-of-type {\n",
       "        vertical-align: middle;\n",
       "    }\n",
       "\n",
       "    .dataframe tbody tr th {\n",
       "        vertical-align: top;\n",
       "    }\n",
       "\n",
       "    .dataframe thead th {\n",
       "        text-align: right;\n",
       "    }\n",
       "</style>\n",
       "<table border=\"1\" class=\"dataframe\">\n",
       "  <thead>\n",
       "    <tr style=\"text-align: right;\">\n",
       "      <th></th>\n",
       "      <th>month</th>\n",
       "      <th>average_rating</th>\n",
       "      <th>frequency</th>\n",
       "    </tr>\n",
       "  </thead>\n",
       "  <tbody>\n",
       "    <tr>\n",
       "      <th>83</th>\n",
       "      <td>107</td>\n",
       "      <td>4.090909</td>\n",
       "      <td>33</td>\n",
       "    </tr>\n",
       "    <tr>\n",
       "      <th>84</th>\n",
       "      <td>108</td>\n",
       "      <td>3.641667</td>\n",
       "      <td>32</td>\n",
       "    </tr>\n",
       "    <tr>\n",
       "      <th>85</th>\n",
       "      <td>109</td>\n",
       "      <td>4.666667</td>\n",
       "      <td>17</td>\n",
       "    </tr>\n",
       "  </tbody>\n",
       "</table>\n",
       "</div>"
      ],
      "text/plain": [
       "    month  average_rating  frequency\n",
       "83    107        4.090909         33\n",
       "84    108        3.641667         32\n",
       "85    109        4.666667         17"
      ]
     },
     "execution_count": 13,
     "metadata": {},
     "output_type": "execute_result"
    }
   ],
   "source": [
    "condition = {\"average_rating\" : \"mean\", \"frequency\":\"sum\"}\n",
    "time_average_frequency =  avg_rating_per_time.groupby(by=\"month\", as_index=False).agg(condition)\n",
    "time_average_frequency.tail(3)"
   ]
  },
  {
   "cell_type": "code",
   "execution_count": 14,
   "metadata": {},
   "outputs": [
    {
     "data": {
      "text/plain": [
       "Text(0, 0.5, 'frequency')"
      ]
     },
     "execution_count": 14,
     "metadata": {},
     "output_type": "execute_result"
    },
    {
     "data": {
      "image/png": "[encoded data removed]",
      "text/plain": [
       "<Figure size 2000x500 with 1 Axes>"
      ]
     },
     "metadata": {},
     "output_type": "display_data"
    }
   ],
   "source": [
    "plt.figure(figsize = (20, 5) )\n",
    "# plt.plot(avg_rating_per_time[\"month\"], avg_rating_per_time['average_rating'])\n",
    "plt.plot(time_average_frequency[\"month\"], time_average_frequency['frequency'])\n",
    "plt.title(f\" product {selected_product_id} per time\")\n",
    "plt.xlabel(\"month\")\n",
    "plt.ylabel(\"frequency\")\n"
   ]
  },
  {
   "cell_type": "markdown",
   "metadata": {},
   "source": [
    "We have a dataset for time series analysis, specifically for building an ARIMA model. To prepare the data, I'll create a separate notebook dedicated to data preparation.\n",
    "\n",
    "Through time series analysis, our goal is to predict the future number of ratings and the average rating for the upcoming month or year."
   ]
  },
  {
   "cell_type": "markdown",
   "metadata": {},
   "source": [
    "let's look the data is stationary for analysis of number of users "
   ]
  },
  {
   "cell_type": "markdown",
   "metadata": {},
   "source": [
    "# Analysis Based on Users"
   ]
  },
  {
   "cell_type": "code",
   "execution_count": 15,
   "metadata": {},
   "outputs": [],
   "source": [
    "def calculate_active_time(x):\n",
    "    return (x.max() - x.min()) / (30 * 24 * 3600)\n",
    "\n",
    "def get_start_from(x):\n",
    "    return pd.to_datetime(x.min(), unit='s')\n",
    "\n",
    "def get_active_until(x):\n",
    "    return pd.to_datetime(x.max(), unit='s')"
   ]
  },
  {
   "cell_type": "markdown",
   "metadata": {},
   "source": [
    "### Alert: Executing the following cell will require approximately 30 minutes.\n"
   ]
  },
  {
   "cell_type": "code",
   "execution_count": 16,
   "metadata": {},
   "outputs": [],
   "source": [
    "\n",
    "df['active_months'] = df.groupby('user_id')['time'].transform(calculate_active_time)\n",
    "df['start_from'] = df.groupby('user_id')['time'].transform(get_start_from)\n",
    "df['active_until'] = df.groupby('user_id')['time'].transform(get_active_until)\n"
   ]
  },
  {
   "cell_type": "code",
   "execution_count": 17,
   "metadata": {},
   "outputs": [
    {
     "data": {
      "text/html": [
       "<div>\n",
       "<style scoped>\n",
       "    .dataframe tbody tr th:only-of-type {\n",
       "        vertical-align: middle;\n",
       "    }\n",
       "\n",
       "    .dataframe tbody tr th {\n",
       "        vertical-align: top;\n",
       "    }\n",
       "\n",
       "    .dataframe thead th {\n",
       "        text-align: right;\n",
       "    }\n",
       "</style>\n",
       "<table border=\"1\" class=\"dataframe\">\n",
       "  <thead>\n",
       "    <tr style=\"text-align: right;\">\n",
       "      <th></th>\n",
       "      <th>number_of_ratings</th>\n",
       "      <th>average_rating_scores</th>\n",
       "      <th>active_months</th>\n",
       "      <th>start_from</th>\n",
       "      <th>active_until</th>\n",
       "    </tr>\n",
       "    <tr>\n",
       "      <th>user_id</th>\n",
       "      <th></th>\n",
       "      <th></th>\n",
       "      <th></th>\n",
       "      <th></th>\n",
       "      <th></th>\n",
       "    </tr>\n",
       "  </thead>\n",
       "  <tbody>\n",
       "    <tr>\n",
       "      <th>A00008821J0F472NDY6A2</th>\n",
       "      <td>1</td>\n",
       "      <td>5.0</td>\n",
       "      <td>0.0</td>\n",
       "      <td>2013-05-09</td>\n",
       "      <td>2013-05-09</td>\n",
       "    </tr>\n",
       "    <tr>\n",
       "      <th>A000186437REL8X2RW8UW</th>\n",
       "      <td>1</td>\n",
       "      <td>5.0</td>\n",
       "      <td>0.0</td>\n",
       "      <td>2014-04-10</td>\n",
       "      <td>2014-04-10</td>\n",
       "    </tr>\n",
       "    <tr>\n",
       "      <th>A0002574WYJMBWKNCPY8</th>\n",
       "      <td>1</td>\n",
       "      <td>3.0</td>\n",
       "      <td>0.0</td>\n",
       "      <td>2014-02-05</td>\n",
       "      <td>2014-02-05</td>\n",
       "    </tr>\n",
       "  </tbody>\n",
       "</table>\n",
       "</div>"
      ],
      "text/plain": [
       "                       number_of_ratings  average_rating_scores  \\\n",
       "user_id                                                           \n",
       "A00008821J0F472NDY6A2                  1                    5.0   \n",
       "A000186437REL8X2RW8UW                  1                    5.0   \n",
       "A0002574WYJMBWKNCPY8                   1                    3.0   \n",
       "\n",
       "                       active_months start_from active_until  \n",
       "user_id                                                       \n",
       "A00008821J0F472NDY6A2            0.0 2013-05-09   2013-05-09  \n",
       "A000186437REL8X2RW8UW            0.0 2014-04-10   2014-04-10  \n",
       "A0002574WYJMBWKNCPY8             0.0 2014-02-05   2014-02-05  "
      ]
     },
     "execution_count": 17,
     "metadata": {},
     "output_type": "execute_result"
    }
   ],
   "source": [
    "\n",
    "user_info = df.groupby(by=\"user_id\").agg({\n",
    "                            \"product_id\" : \"count\",\n",
    "                            \"rating\" : \"mean\",\n",
    "                            # To determine the duration of a user's activity in terms of months.\n",
    "                            \"active_months\" : \"first\",\n",
    "                            \"start_from\" : \"first\",\n",
    "                            \"active_until\" : \"first\",\n",
    "})\n",
    "\n",
    "user_info = user_info.rename(columns={\"product_id\" : \"number_of_ratings\",\n",
    "                                      \"rating\" : \"average_rating_scores\"})\n",
    "user_info.head(3)"
   ]
  },
  {
   "cell_type": "code",
   "execution_count": 18,
   "metadata": {},
   "outputs": [
    {
     "name": "stdout",
     "output_type": "stream",
     "text": [
      "<class 'pandas.core.frame.DataFrame'>\n",
      "Index: 1210271 entries, A00008821J0F472NDY6A2 to AZZZU2TD7Q3ET\n",
      "Data columns (total 5 columns):\n",
      " #   Column                 Non-Null Count    Dtype         \n",
      "---  ------                 --------------    -----         \n",
      " 0   number_of_ratings      1210271 non-null  int64         \n",
      " 1   average_rating_scores  1210271 non-null  float64       \n",
      " 2   active_months          1210271 non-null  float64       \n",
      " 3   start_from             1210271 non-null  datetime64[ns]\n",
      " 4   active_until           1210271 non-null  datetime64[ns]\n",
      "dtypes: datetime64[ns](2), float64(2), int64(1)\n",
      "memory usage: 55.4+ MB\n"
     ]
    }
   ],
   "source": [
    "user_info.info()"
   ]
  },
  {
   "cell_type": "code",
   "execution_count": 19,
   "metadata": {},
   "outputs": [
    {
     "data": {
      "text/html": [
       "<div>\n",
       "<style scoped>\n",
       "    .dataframe tbody tr th:only-of-type {\n",
       "        vertical-align: middle;\n",
       "    }\n",
       "\n",
       "    .dataframe tbody tr th {\n",
       "        vertical-align: top;\n",
       "    }\n",
       "\n",
       "    .dataframe thead th {\n",
       "        text-align: right;\n",
       "    }\n",
       "</style>\n",
       "<table border=\"1\" class=\"dataframe\">\n",
       "  <thead>\n",
       "    <tr style=\"text-align: right;\">\n",
       "      <th></th>\n",
       "      <th>number_of_ratings</th>\n",
       "      <th>average_rating_scores</th>\n",
       "      <th>active_months</th>\n",
       "      <th>start_from</th>\n",
       "      <th>active_until</th>\n",
       "    </tr>\n",
       "  </thead>\n",
       "  <tbody>\n",
       "    <tr>\n",
       "      <th>count</th>\n",
       "      <td>1.210271e+06</td>\n",
       "      <td>1.210271e+06</td>\n",
       "      <td>1.210271e+06</td>\n",
       "      <td>1210271</td>\n",
       "      <td>1210271</td>\n",
       "    </tr>\n",
       "    <tr>\n",
       "      <th>mean</th>\n",
       "      <td>1.671584e+00</td>\n",
       "      <td>4.115778e+00</td>\n",
       "      <td>2.573513e+00</td>\n",
       "      <td>2012-12-09 08:18:40.473678848</td>\n",
       "      <td>2013-02-24 13:14:26.772152320</td>\n",
       "    </tr>\n",
       "    <tr>\n",
       "      <th>min</th>\n",
       "      <td>1.000000e+00</td>\n",
       "      <td>1.000000e+00</td>\n",
       "      <td>0.000000e+00</td>\n",
       "      <td>1998-10-19 00:00:00</td>\n",
       "      <td>1998-10-19 00:00:00</td>\n",
       "    </tr>\n",
       "    <tr>\n",
       "      <th>25%</th>\n",
       "      <td>1.000000e+00</td>\n",
       "      <td>3.750000e+00</td>\n",
       "      <td>0.000000e+00</td>\n",
       "      <td>2012-06-20 00:00:00</td>\n",
       "      <td>2012-11-11 00:00:00</td>\n",
       "    </tr>\n",
       "    <tr>\n",
       "      <th>50%</th>\n",
       "      <td>1.000000e+00</td>\n",
       "      <td>5.000000e+00</td>\n",
       "      <td>0.000000e+00</td>\n",
       "      <td>2013-05-23 00:00:00</td>\n",
       "      <td>2013-08-04 00:00:00</td>\n",
       "    </tr>\n",
       "    <tr>\n",
       "      <th>75%</th>\n",
       "      <td>2.000000e+00</td>\n",
       "      <td>5.000000e+00</td>\n",
       "      <td>0.000000e+00</td>\n",
       "      <td>2014-01-15 00:00:00</td>\n",
       "      <td>2014-02-23 00:00:00</td>\n",
       "    </tr>\n",
       "    <tr>\n",
       "      <th>max</th>\n",
       "      <td>3.890000e+02</td>\n",
       "      <td>5.000000e+00</td>\n",
       "      <td>1.651667e+02</td>\n",
       "      <td>2014-07-23 00:00:00</td>\n",
       "      <td>2014-07-23 00:00:00</td>\n",
       "    </tr>\n",
       "    <tr>\n",
       "      <th>std</th>\n",
       "      <td>2.531884e+00</td>\n",
       "      <td>1.286298e+00</td>\n",
       "      <td>9.080760e+00</td>\n",
       "      <td>NaN</td>\n",
       "      <td>NaN</td>\n",
       "    </tr>\n",
       "  </tbody>\n",
       "</table>\n",
       "</div>"
      ],
      "text/plain": [
       "       number_of_ratings  average_rating_scores  active_months  \\\n",
       "count       1.210271e+06           1.210271e+06   1.210271e+06   \n",
       "mean        1.671584e+00           4.115778e+00   2.573513e+00   \n",
       "min         1.000000e+00           1.000000e+00   0.000000e+00   \n",
       "25%         1.000000e+00           3.750000e+00   0.000000e+00   \n",
       "50%         1.000000e+00           5.000000e+00   0.000000e+00   \n",
       "75%         2.000000e+00           5.000000e+00   0.000000e+00   \n",
       "max         3.890000e+02           5.000000e+00   1.651667e+02   \n",
       "std         2.531884e+00           1.286298e+00   9.080760e+00   \n",
       "\n",
       "                          start_from                   active_until  \n",
       "count                        1210271                        1210271  \n",
       "mean   2012-12-09 08:18:40.473678848  2013-02-24 13:14:26.772152320  \n",
       "min              1998-10-19 00:00:00            1998-10-19 00:00:00  \n",
       "25%              2012-06-20 00:00:00            2012-11-11 00:00:00  \n",
       "50%              2013-05-23 00:00:00            2013-08-04 00:00:00  \n",
       "75%              2014-01-15 00:00:00            2014-02-23 00:00:00  \n",
       "max              2014-07-23 00:00:00            2014-07-23 00:00:00  \n",
       "std                              NaN                            NaN  "
      ]
     },
     "execution_count": 19,
     "metadata": {},
     "output_type": "execute_result"
    }
   ],
   "source": [
    "user_info.describe()"
   ]
  },
  {
   "cell_type": "code",
   "execution_count": 20,
   "metadata": {},
   "outputs": [
    {
     "data": {
      "text/plain": [
       "1210271"
      ]
     },
     "execution_count": 20,
     "metadata": {},
     "output_type": "execute_result"
    }
   ],
   "source": [
    "len(user_info.index.unique())"
   ]
  },
  {
   "cell_type": "markdown",
   "metadata": {},
   "source": [
    "**This dataset comprises 1.2 million (1,210,271) users, with ratings ranging from 1 to 5. The number of ratings per user varies between 1 and 389, ensuring a robust dataset with high data quality.**"
   ]
  },
  {
   "cell_type": "markdown",
   "metadata": {},
   "source": [
    "# Conclusion"
   ]
  },
  {
   "cell_type": "markdown",
   "metadata": {},
   "source": [
    "**Strengths:**\n",
    "\n",
    "1. The dataset exhibits remarkable cleanliness, with no instances of null, NAN, or duplicated values, contributing to its reliability and ease of analysis.\n",
    "\n",
    "2. The temporal structure of the dataset makes it exceptionally well-suited for time series analysis, allowing for the exploration of trends and patterns over a specific period.\n",
    "\n",
    "3. The dataset is highly conducive to RFM (Recency, Frequency, Monetary) analysis, offering valuable insights into customer behavior and segmentation.\n",
    "\n",
    "**Weaknesses:**\n",
    "\n",
    "1. The primary drawback lies in the dataset's age, spanning from 2000 to 2014, indicating a need for an update to incorporate more recent information and align with contemporary trends.\n",
    "\n",
    "2. A significant weakness arises from the lack of defined attributes such as product names, product categories, owner's country/city, and user information. This limitation renders the dataset unsuitable for tasks related to product pricing, as the essential details for such analyses are not present. Addressing this deficiency would enhance the dataset's usability across a broader spectrum of analytics."
   ]
  },
  {
   "cell_type": "markdown",
   "metadata": {},
   "source": []
  },
  {
   "cell_type": "markdown",
   "metadata": {},
   "source": []
  },
  {
   "cell_type": "markdown",
   "metadata": {},
   "source": []
  }
 ],
 "metadata": {
  "kernelspec": {
   "display_name": "Python 3",
   "language": "python",
   "name": "python3"
  },
  "language_info": {
   "codemirror_mode": {
    "name": "ipython",
    "version": 3
   },
   "file_extension": ".py",
   "mimetype": "text/x-python",
   "name": "python",
   "nbconvert_exporter": "python",
   "pygments_lexer": "ipython3",
   "version": "3.11.0"
  }
 },
 "nbformat": 4,
 "nbformat_minor": 2
}
