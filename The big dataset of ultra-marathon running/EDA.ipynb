{
 "cells": [
  {
   "cell_type": "markdown",
   "metadata": {},
   "source": [
    "**In this project, I will conduct an `Explanatory analysis(EDA)` on the dataset <a href=\"https://www.kaggle.com/search?q=ultra+marathon+in%3Adatasets\"> The big dataset of ultra-marathon running</a>,  which is available on Kaggle. Although my dataset is not exceptionally large (around 1 gigabyte in CSV format), it is still significant. My aim is to perform data manipulation and EDA on this large dataset using the `Pandas` library.**"
   ]
  },
  {
   "cell_type": "code",
   "execution_count": 1,
   "metadata": {},
   "outputs": [],
   "source": [
    "import pandas as pd\n",
    "import seaborn as sns"
   ]
  },
  {
   "cell_type": "code",
   "execution_count": 3,
   "metadata": {},
   "outputs": [
    {
     "name": "stderr",
     "output_type": "stream",
     "text": [
      "C:\\Users\\saeed\\AppData\\Local\\Temp\\ipykernel_19284\\4232497205.py:1: DtypeWarning: Columns (11) have mixed types. Specify dtype option on import or set low_memory=False.\n",
      "  data = pd.read_csv(\"clean_dataset.csv\")\n"
     ]
    },
    {
     "data": {
      "text/html": [
       "<div>\n",
       "<style scoped>\n",
       "    .dataframe tbody tr th:only-of-type {\n",
       "        vertical-align: middle;\n",
       "    }\n",
       "\n",
       "    .dataframe tbody tr th {\n",
       "        vertical-align: top;\n",
       "    }\n",
       "\n",
       "    .dataframe thead th {\n",
       "        text-align: right;\n",
       "    }\n",
       "</style>\n",
       "<table border=\"1\" class=\"dataframe\">\n",
       "  <thead>\n",
       "    <tr style=\"text-align: right;\">\n",
       "      <th></th>\n",
       "      <th>year_of_event</th>\n",
       "      <th>event_dates</th>\n",
       "      <th>event_name</th>\n",
       "      <th>event_distance/length(km)</th>\n",
       "      <th>event_number_of_finishers</th>\n",
       "      <th>athlete_performance</th>\n",
       "      <th>athlete_club</th>\n",
       "      <th>athlete_country</th>\n",
       "      <th>athlete_year_of_birth</th>\n",
       "      <th>athlete_gender</th>\n",
       "      <th>athlete_age</th>\n",
       "      <th>athlete_average_speed</th>\n",
       "      <th>athlete_id</th>\n",
       "    </tr>\n",
       "  </thead>\n",
       "  <tbody>\n",
       "    <tr>\n",
       "      <th>0</th>\n",
       "      <td>2018</td>\n",
       "      <td>06.01.2018</td>\n",
       "      <td>6 Stunden Self-Transcendence Sri Chinmoy Smole...</td>\n",
       "      <td>60.375</td>\n",
       "      <td>9</td>\n",
       "      <td>6.0</td>\n",
       "      <td>Мкшч</td>\n",
       "      <td>RUS</td>\n",
       "      <td>1966.0</td>\n",
       "      <td>M</td>\n",
       "      <td>50</td>\n",
       "      <td>10.063</td>\n",
       "      <td>22</td>\n",
       "    </tr>\n",
       "    <tr>\n",
       "      <th>1</th>\n",
       "      <td>2018</td>\n",
       "      <td>06.01.2018</td>\n",
       "      <td>6 Stunden Self-Transcendence Sri Chinmoy Smole...</td>\n",
       "      <td>59.750</td>\n",
       "      <td>9</td>\n",
       "      <td>6.0</td>\n",
       "      <td>Лично</td>\n",
       "      <td>RUS</td>\n",
       "      <td>1990.0</td>\n",
       "      <td>M</td>\n",
       "      <td>23</td>\n",
       "      <td>9.958</td>\n",
       "      <td>23</td>\n",
       "    </tr>\n",
       "  </tbody>\n",
       "</table>\n",
       "</div>"
      ],
      "text/plain": [
       "   year_of_event event_dates  \\\n",
       "0           2018  06.01.2018   \n",
       "1           2018  06.01.2018   \n",
       "\n",
       "                                          event_name  \\\n",
       "0  6 Stunden Self-Transcendence Sri Chinmoy Smole...   \n",
       "1  6 Stunden Self-Transcendence Sri Chinmoy Smole...   \n",
       "\n",
       "   event_distance/length(km)  event_number_of_finishers  athlete_performance  \\\n",
       "0                     60.375                          9                  6.0   \n",
       "1                     59.750                          9                  6.0   \n",
       "\n",
       "  athlete_club athlete_country  athlete_year_of_birth athlete_gender  \\\n",
       "0         Мкшч             RUS                 1966.0              M   \n",
       "1        Лично             RUS                 1990.0              M   \n",
       "\n",
       "   athlete_age athlete_average_speed  athlete_id  \n",
       "0           50                10.063          22  \n",
       "1           23                 9.958          23  "
      ]
     },
     "execution_count": 3,
     "metadata": {},
     "output_type": "execute_result"
    }
   ],
   "source": [
    "data = pd.read_csv(\"clean_dataset.csv\")\n",
    "data.head(2)"
   ]
  },
  {
   "cell_type": "markdown",
   "metadata": {},
   "source": [
    "---"
   ]
  },
  {
   "cell_type": "code",
   "execution_count": null,
   "metadata": {},
   "outputs": [],
   "source": []
  },
  {
   "cell_type": "code",
   "execution_count": null,
   "metadata": {},
   "outputs": [],
   "source": []
  }
 ],
 "metadata": {
  "kernelspec": {
   "display_name": "Python 3",
   "language": "python",
   "name": "python3"
  },
  "language_info": {
   "codemirror_mode": {
    "name": "ipython",
    "version": 3
   },
   "file_extension": ".py",
   "mimetype": "text/x-python",
   "name": "python",
   "nbconvert_exporter": "python",
   "pygments_lexer": "ipython3",
   "version": "3.11.0"
  }
 },
 "nbformat": 4,
 "nbformat_minor": 2
}
