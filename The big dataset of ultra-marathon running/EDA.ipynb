{
 "cells": [
  {
   "cell_type": "code",
   "execution_count": 1,
   "metadata": {},
   "outputs": [],
   "source": [
    "import polars as pl"
   ]
  },
  {
   "cell_type": "code",
   "execution_count": 3,
   "metadata": {},
   "outputs": [
    {
     "data": {
      "text/html": [
       "<div><style>\n",
       ".dataframe > thead > tr,\n",
       ".dataframe > tbody > tr {\n",
       "  text-align: right;\n",
       "  white-space: pre-wrap;\n",
       "}\n",
       "</style>\n",
       "<small>shape: (7_461_195, 13)</small><table border=\"1\" class=\"dataframe\"><thead><tr><th>Year of event</th><th>Event dates</th><th>Event name</th><th>Event distance/length</th><th>Event number of finishers</th><th>Athlete performance</th><th>Athlete club</th><th>Athlete country</th><th>Athlete year of birth</th><th>Athlete gender</th><th>Athlete age category</th><th>Athlete average speed</th><th>Athlete ID</th></tr><tr><td>i64</td><td>str</td><td>str</td><td>str</td><td>i64</td><td>str</td><td>str</td><td>str</td><td>f64</td><td>str</td><td>str</td><td>f64</td><td>i64</td></tr></thead><tbody><tr><td>2018</td><td>&quot;06.01.2018&quot;</td><td>&quot;Selva Costera …</td><td>&quot;50km&quot;</td><td>22</td><td>&quot;4:51:39 h&quot;</td><td>&quot;Tnfrc&quot;</td><td>&quot;CHI&quot;</td><td>1978.0</td><td>&quot;M&quot;</td><td>&quot;M35&quot;</td><td>10.286</td><td>0</td></tr><tr><td>2018</td><td>&quot;06.01.2018&quot;</td><td>&quot;Selva Costera …</td><td>&quot;50km&quot;</td><td>22</td><td>&quot;5:15:45 h&quot;</td><td>&quot;Roberto Echeve…</td><td>&quot;CHI&quot;</td><td>1981.0</td><td>&quot;M&quot;</td><td>&quot;M35&quot;</td><td>9.501</td><td>1</td></tr><tr><td>2018</td><td>&quot;06.01.2018&quot;</td><td>&quot;Selva Costera …</td><td>&quot;50km&quot;</td><td>22</td><td>&quot;5:16:44 h&quot;</td><td>&quot;Puro Trail Oso…</td><td>&quot;CHI&quot;</td><td>1987.0</td><td>&quot;M&quot;</td><td>&quot;M23&quot;</td><td>9.472</td><td>2</td></tr><tr><td>2018</td><td>&quot;06.01.2018&quot;</td><td>&quot;Selva Costera …</td><td>&quot;50km&quot;</td><td>22</td><td>&quot;5:34:13 h&quot;</td><td>&quot;Columbia&quot;</td><td>&quot;ARG&quot;</td><td>1976.0</td><td>&quot;M&quot;</td><td>&quot;M40&quot;</td><td>8.976</td><td>3</td></tr><tr><td>2018</td><td>&quot;06.01.2018&quot;</td><td>&quot;Selva Costera …</td><td>&quot;50km&quot;</td><td>22</td><td>&quot;5:54:14 h&quot;</td><td>&quot;Baguales Trail…</td><td>&quot;CHI&quot;</td><td>1992.0</td><td>&quot;M&quot;</td><td>&quot;M23&quot;</td><td>8.469</td><td>4</td></tr><tr><td>&hellip;</td><td>&hellip;</td><td>&hellip;</td><td>&hellip;</td><td>&hellip;</td><td>&hellip;</td><td>&hellip;</td><td>&hellip;</td><td>&hellip;</td><td>&hellip;</td><td>&hellip;</td><td>&hellip;</td><td>&hellip;</td></tr><tr><td>1995</td><td>&quot;00.00.1995&quot;</td><td>&quot;La SainteLyon …</td><td>&quot;65km&quot;</td><td>2</td><td>&quot;4:33:20 h&quot;</td><td>null</td><td>&quot;FRA&quot;</td><td>null</td><td>&quot;M&quot;</td><td>null</td><td>14268.0</td><td>1151060</td></tr><tr><td>1995</td><td>&quot;00.00.1995&quot;</td><td>&quot;La SainteLyon …</td><td>&quot;65km&quot;</td><td>2</td><td>&quot;6:05:15 h&quot;</td><td>null</td><td>&quot;FRA&quot;</td><td>null</td><td>&quot;F&quot;</td><td>null</td><td>10678.0</td><td>1073520</td></tr><tr><td>1995</td><td>&quot;00.00.1995&quot;</td><td>&quot;Szombathely 24…</td><td>&quot;24h&quot;</td><td>3</td><td>&quot;241.000 km&quot;</td><td>&quot;*Budapest&quot;</td><td>&quot;HUN&quot;</td><td>1950.0</td><td>&quot;M&quot;</td><td>&quot;M40&quot;</td><td>10042.0</td><td>1047373</td></tr><tr><td>1995</td><td>&quot;00.00.1995&quot;</td><td>&quot;Szombathely 24…</td><td>&quot;24h&quot;</td><td>3</td><td>&quot;228.000 km&quot;</td><td>&quot;*Szeged&quot;</td><td>&quot;HUN&quot;</td><td>1959.0</td><td>&quot;M&quot;</td><td>&quot;M35&quot;</td><td>9500.0</td><td>380150</td></tr><tr><td>1995</td><td>&quot;00.00.1995&quot;</td><td>&quot;Szombathely 24…</td><td>&quot;24h&quot;</td><td>3</td><td>&quot;224.000 km&quot;</td><td>&quot;*Pecs&quot;</td><td>&quot;HUN&quot;</td><td>1958.0</td><td>&quot;M&quot;</td><td>&quot;M35&quot;</td><td>9333.0</td><td>1070482</td></tr></tbody></table></div>"
      ],
      "text/plain": [
       "shape: (7_461_195, 13)\n",
       "┌───────────┬───────────┬───────────┬───────────┬───┬───────────┬───────────┬───────────┬──────────┐\n",
       "│ Year of   ┆ Event     ┆ Event     ┆ Event dis ┆ … ┆ Athlete   ┆ Athlete   ┆ Athlete   ┆ Athlete  │\n",
       "│ event     ┆ dates     ┆ name      ┆ tance/len ┆   ┆ gender    ┆ age       ┆ average   ┆ ID       │\n",
       "│ ---       ┆ ---       ┆ ---       ┆ gth       ┆   ┆ ---       ┆ category  ┆ speed     ┆ ---      │\n",
       "│ i64       ┆ str       ┆ str       ┆ ---       ┆   ┆ str       ┆ ---       ┆ ---       ┆ i64      │\n",
       "│           ┆           ┆           ┆ str       ┆   ┆           ┆ str       ┆ f64       ┆          │\n",
       "╞═══════════╪═══════════╪═══════════╪═══════════╪═══╪═══════════╪═══════════╪═══════════╪══════════╡\n",
       "│ 2018      ┆ 06.01.201 ┆ Selva     ┆ 50km      ┆ … ┆ M         ┆ M35       ┆ 10.286    ┆ 0        │\n",
       "│           ┆ 8         ┆ Costera   ┆           ┆   ┆           ┆           ┆           ┆          │\n",
       "│           ┆           ┆ (CHI)     ┆           ┆   ┆           ┆           ┆           ┆          │\n",
       "│ 2018      ┆ 06.01.201 ┆ Selva     ┆ 50km      ┆ … ┆ M         ┆ M35       ┆ 9.501     ┆ 1        │\n",
       "│           ┆ 8         ┆ Costera   ┆           ┆   ┆           ┆           ┆           ┆          │\n",
       "│           ┆           ┆ (CHI)     ┆           ┆   ┆           ┆           ┆           ┆          │\n",
       "│ 2018      ┆ 06.01.201 ┆ Selva     ┆ 50km      ┆ … ┆ M         ┆ M23       ┆ 9.472     ┆ 2        │\n",
       "│           ┆ 8         ┆ Costera   ┆           ┆   ┆           ┆           ┆           ┆          │\n",
       "│           ┆           ┆ (CHI)     ┆           ┆   ┆           ┆           ┆           ┆          │\n",
       "│ 2018      ┆ 06.01.201 ┆ Selva     ┆ 50km      ┆ … ┆ M         ┆ M40       ┆ 8.976     ┆ 3        │\n",
       "│           ┆ 8         ┆ Costera   ┆           ┆   ┆           ┆           ┆           ┆          │\n",
       "│           ┆           ┆ (CHI)     ┆           ┆   ┆           ┆           ┆           ┆          │\n",
       "│ 2018      ┆ 06.01.201 ┆ Selva     ┆ 50km      ┆ … ┆ M         ┆ M23       ┆ 8.469     ┆ 4        │\n",
       "│           ┆ 8         ┆ Costera   ┆           ┆   ┆           ┆           ┆           ┆          │\n",
       "│           ┆           ┆ (CHI)     ┆           ┆   ┆           ┆           ┆           ┆          │\n",
       "│ …         ┆ …         ┆ …         ┆ …         ┆ … ┆ …         ┆ …         ┆ …         ┆ …        │\n",
       "│ 1995      ┆ 00.00.199 ┆ La Sainte ┆ 65km      ┆ … ┆ M         ┆ null      ┆ 14268.0   ┆ 1151060  │\n",
       "│           ┆ 5         ┆ Lyon 65   ┆           ┆   ┆           ┆           ┆           ┆          │\n",
       "│           ┆           ┆ km (FRA)  ┆           ┆   ┆           ┆           ┆           ┆          │\n",
       "│ 1995      ┆ 00.00.199 ┆ La Sainte ┆ 65km      ┆ … ┆ F         ┆ null      ┆ 10678.0   ┆ 1073520  │\n",
       "│           ┆ 5         ┆ Lyon 65   ┆           ┆   ┆           ┆           ┆           ┆          │\n",
       "│           ┆           ┆ km (FRA)  ┆           ┆   ┆           ┆           ┆           ┆          │\n",
       "│ 1995      ┆ 00.00.199 ┆ Szombathe ┆ 24h       ┆ … ┆ M         ┆ M40       ┆ 10042.0   ┆ 1047373  │\n",
       "│           ┆ 5         ┆ ly 24     ┆           ┆   ┆           ┆           ┆           ┆          │\n",
       "│           ┆           ┆ hours     ┆           ┆   ┆           ┆           ┆           ┆          │\n",
       "│           ┆           ┆ running   ┆           ┆   ┆           ┆           ┆           ┆          │\n",
       "│           ┆           ┆ Rac…      ┆           ┆   ┆           ┆           ┆           ┆          │\n",
       "│ 1995      ┆ 00.00.199 ┆ Szombathe ┆ 24h       ┆ … ┆ M         ┆ M35       ┆ 9500.0    ┆ 380150   │\n",
       "│           ┆ 5         ┆ ly 24     ┆           ┆   ┆           ┆           ┆           ┆          │\n",
       "│           ┆           ┆ hours     ┆           ┆   ┆           ┆           ┆           ┆          │\n",
       "│           ┆           ┆ running   ┆           ┆   ┆           ┆           ┆           ┆          │\n",
       "│           ┆           ┆ Rac…      ┆           ┆   ┆           ┆           ┆           ┆          │\n",
       "│ 1995      ┆ 00.00.199 ┆ Szombathe ┆ 24h       ┆ … ┆ M         ┆ M35       ┆ 9333.0    ┆ 1070482  │\n",
       "│           ┆ 5         ┆ ly 24     ┆           ┆   ┆           ┆           ┆           ┆          │\n",
       "│           ┆           ┆ hours     ┆           ┆   ┆           ┆           ┆           ┆          │\n",
       "│           ┆           ┆ running   ┆           ┆   ┆           ┆           ┆           ┆          │\n",
       "│           ┆           ┆ Rac…      ┆           ┆   ┆           ┆           ┆           ┆          │\n",
       "└───────────┴───────────┴───────────┴───────────┴───┴───────────┴───────────┴───────────┴──────────┘"
      ]
     },
     "execution_count": 3,
     "metadata": {},
     "output_type": "execute_result"
    }
   ],
   "source": [
    "ultra_marathon_data = pl.read_csv(\"TWO_CENTURIES_OF_UM_RACES.csv\", ignore_errors=True)\n",
    "ultra_marathon_data"
   ]
  },
  {
   "cell_type": "markdown",
   "metadata": {},
   "source": [
    "https://www.youtube.com/watch?v=4sZFkPw87ng&t=114s"
   ]
  },
  {
   "cell_type": "code",
   "execution_count": null,
   "metadata": {},
   "outputs": [],
   "source": []
  }
 ],
 "metadata": {
  "kernelspec": {
   "display_name": "Python 3",
   "language": "python",
   "name": "python3"
  },
  "language_info": {
   "codemirror_mode": {
    "name": "ipython",
    "version": 3
   },
   "file_extension": ".py",
   "mimetype": "text/x-python",
   "name": "python",
   "nbconvert_exporter": "python",
   "pygments_lexer": "ipython3",
   "version": "3.11.0"
  }
 },
 "nbformat": 4,
 "nbformat_minor": 2
}
